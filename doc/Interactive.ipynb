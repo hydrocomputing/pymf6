{
 "cells": [
  {
   "cell_type": "code",
   "execution_count": 1,
   "id": "a6513226-ab9a-4940-b64e-945f61cdae48",
   "metadata": {
    "editable": true,
    "slideshow": {
     "slide_type": ""
    },
    "tags": [
     "remove-cell"
    ]
   },
   "outputs": [
    {
     "name": "stdout",
     "output_type": "stream",
     "text": [
      "Exception reporting mode: Minimal\n"
     ]
    }
   ],
   "source": [
    "%load_ext autoreload\n",
    "%load_ext jbmagics\n",
    "%autoreload 2"
   ]
  },
  {
   "cell_type": "markdown",
   "id": "a83e8653-936b-4fac-b858-36eb1f98814f",
   "metadata": {},
   "source": [
    "# Inspect MODFLOW 6 interactively\n",
    "\n",
    "`pymf6` allows to access all MODFLOW 6 variables at run time.\n",
    "First, we import the class `MF6`:"
   ]
  },
  {
   "cell_type": "code",
   "execution_count": 2,
   "id": "eccd36e0-66ac-42ae-bcd3-fe699dbd9107",
   "metadata": {},
   "outputs": [],
   "source": [
    "from pymf6.mf6 import MF6"
   ]
  },
  {
   "cell_type": "code",
   "execution_count": 3,
   "id": "38e9f6b0-1901-4b06-b260-f4cc87434329",
   "metadata": {
    "editable": true,
    "slideshow": {
     "slide_type": ""
    },
    "tags": [
     "remove-cell"
    ]
   },
   "outputs": [],
   "source": [
    "MF6._demo = True"
   ]
  },
  {
   "cell_type": "markdown",
   "id": "8eb364a6-f109-4a13-8699-7777bb25e4dd",
   "metadata": {},
   "source": [
    "We use a simple model:"
   ]
  },
  {
   "cell_type": "code",
   "execution_count": 4,
   "id": "2026a190-708a-439d-a869-53ee80fc9a65",
   "metadata": {
    "editable": true,
    "slideshow": {
     "slide_type": ""
    },
    "tags": []
   },
   "outputs": [],
   "source": [
    "sim_path = 'examples/head_controlled_well/models/pymf6'"
   ]
  },
  {
   "cell_type": "markdown",
   "id": "f41b604d-0187-4b1f-8d49-31881a4888e9",
   "metadata": {
    "editable": true,
    "slideshow": {
     "slide_type": ""
    },
    "tags": []
   },
   "source": [
    "and instantiate the class:"
   ]
  },
  {
   "cell_type": "code",
   "execution_count": 5,
   "id": "cf83b05a-e791-40e9-9cd2-57400a4fa261",
   "metadata": {
    "editable": true,
    "slideshow": {
     "slide_type": ""
    },
    "tags": []
   },
   "outputs": [],
   "source": [
    "mf6 = MF6(sim_path=sim_path)"
   ]
  },
  {
   "cell_type": "markdown",
   "id": "9458c9bf-cd7e-484f-8d03-2c658dffcf51",
   "metadata": {
    "editable": true,
    "slideshow": {
     "slide_type": ""
    },
    "tags": []
   },
   "source": [
    "The instance has an HTML representation with some meta data: "
   ]
  },
  {
   "cell_type": "code",
   "execution_count": 6,
   "id": "ce241a2e-4a30-453c-9f5f-8cff3f42a35d",
   "metadata": {
    "editable": true,
    "slideshow": {
     "slide_type": ""
    },
    "tags": []
   },
   "outputs": [
    {
     "data": {
      "text/html": [
       "<h3>MF6</h3><h4>pymf6 configuration data</h4><table><tbody><tr><td>pymf6 version:</td><td>1.4.1.dev68+g2bbc494a.d20250316</td></tr><tr><td>xmipy version:</td><td>1.3.1</td></tr><tr><td>modflowapi version:</td><td>0.3.0.dev0</td></tr><tr><td>ini file path:</td><td>HOME/pymf6.ini</td></tr><tr><td>dll file path:</td><td>path/to/dll/libmf6.dll</td></tr><tr><td>MODFLOW version:</td><td>6.6.1</td></tr></tbody></table><p>MODFLOW Fortan variable documentation is available.</p>"
      ],
      "text/plain": [
       "<pymf6.mf6.MF6 at 0x11cbcf8c0>"
      ]
     },
     "execution_count": 6,
     "metadata": {},
     "output_type": "execute_result"
    }
   ],
   "source": [
    "mf6"
   ]
  },
  {
   "cell_type": "markdown",
   "id": "221a244a-0060-4656-8987-0940de8465ee",
   "metadata": {
    "editable": true,
    "slideshow": {
     "slide_type": ""
    },
    "tags": []
   },
   "source": [
    "The same information is available as text: "
   ]
  },
  {
   "cell_type": "code",
   "execution_count": 7,
   "id": "66ef23ab-e2f3-48c9-bf2c-02dd86b2c88b",
   "metadata": {
    "editable": true,
    "slideshow": {
     "slide_type": ""
    },
    "tags": []
   },
   "outputs": [
    {
     "name": "stdout",
     "output_type": "stream",
     "text": [
      "========================\n",
      "pymf6 configuration data\n",
      "========================\n",
      "pymf6 version: 1.4.1.dev68+g2bbc494a.d20250316\n",
      "xmipy version: 1.3.1\n",
      "modflowapi version: 0.3.0.dev0\n",
      "ini file path: HOME/pymf6.ini\n",
      "dll file path: path/to/dll/libmf6.dll\n",
      "MODFLOW version: 6.6.1\n",
      "MODFLOW Fortan variable documentation is available.\n"
     ]
    }
   ],
   "source": [
    "mf6.info"
   ]
  },
  {
   "cell_type": "markdown",
   "id": "2fc05a70-6d24-4516-af24-ce42dfdad90a",
   "metadata": {
    "editable": true,
    "slideshow": {
     "slide_type": ""
    },
    "tags": []
   },
   "source": [
    "MODFLOW 6 supports multiple simulations.\n",
    "This example only has one:"
   ]
  },
  {
   "cell_type": "code",
   "execution_count": 8,
   "id": "5b2b24c1-2c39-45b4-b04e-2d38484cf077",
   "metadata": {},
   "outputs": [
    {
     "data": {
      "text/html": [
       "<div>\n",
       "<style scoped>\n",
       "    .dataframe tbody tr th:only-of-type {\n",
       "        vertical-align: middle;\n",
       "    }\n",
       "\n",
       "    .dataframe tbody tr th {\n",
       "        vertical-align: top;\n",
       "    }\n",
       "\n",
       "    .dataframe thead th {\n",
       "        text-align: right;\n",
       "    }\n",
       "</style>\n",
       "<table border=\"1\" class=\"dataframe\"><thead>\n",
       "                 <tr style=\"text-align: right;\">\n",
       "<th>modeltype</th>\n",
       "<th>namefile</th>\n",
       "<th>modelname</th>\n",
       "</tr>\n",
       "  </thead>\n",
       "<tbody><tr>\n",
       "<td>gwf6</td>\n",
       "<td>headconwell.nam</td>\n",
       "<td>HEADCONWELL</td>\n",
       "</tr>\n",
       "</tbody>\n",
       "</table>\n",
       "</div>"
      ],
      "text/plain": [
       "=============================================\n",
       "| modeltype | namefile        | modelname   |\n",
       "---------------------------------------------\n",
       "| gwf6      | headconwell.nam | HEADCONWELL |\n",
       "============================================="
      ]
     },
     "execution_count": 8,
     "metadata": {},
     "output_type": "execute_result"
    }
   ],
   "source": [
    "mf6.simulation"
   ]
  },
  {
   "cell_type": "markdown",
   "id": "4dd7a689-ccf5-4ebe-930a-868f784d1302",
   "metadata": {},
   "source": [
    "The names of the simulations are available as list of strings:"
   ]
  },
  {
   "cell_type": "code",
   "execution_count": 9,
   "id": "29005f4e-0ddf-4d27-8634-64b878d6c344",
   "metadata": {},
   "outputs": [
    {
     "data": {
      "text/plain": [
       "['HEADCONWELL']"
      ]
     },
     "execution_count": 9,
     "metadata": {},
     "output_type": "execute_result"
    }
   ],
   "source": [
    "mf6.simulation.model_names"
   ]
  },
  {
   "cell_type": "markdown",
   "id": "e96f8181-1aa9-47eb-857f-20cee03c0579",
   "metadata": {},
   "source": [
    "The models have their own representations:"
   ]
  },
  {
   "cell_type": "code",
   "execution_count": 10,
   "id": "f0b09955-26cf-400d-b00f-14ee3e578853",
   "metadata": {},
   "outputs": [
    {
     "data": {
      "text/plain": [
       "[Model HEADCONWELL \n",
       " 15 packages\n",
       " 49 variables.]"
      ]
     },
     "execution_count": 10,
     "metadata": {},
     "output_type": "execute_result"
    }
   ],
   "source": [
    "mf6.simulation.models"
   ]
  },
  {
   "cell_type": "markdown",
   "id": "9be71b23-8165-4db5-99da-1823860fd096",
   "metadata": {},
   "source": [
    "The meta information is also available as a dictionary:"
   ]
  },
  {
   "cell_type": "code",
   "execution_count": 11,
   "id": "b0626be0-123e-409b-9d69-80869428c3d9",
   "metadata": {},
   "outputs": [
    {
     "data": {
      "text/plain": [
       "[{'modeltype': 'gwf6',\n",
       "  'namefile': 'headconwell.nam',\n",
       "  'modelname': 'HEADCONWELL'}]"
      ]
     },
     "execution_count": 11,
     "metadata": {},
     "output_type": "execute_result"
    }
   ],
   "source": [
    "mf6.simulation.models_meta"
   ]
  },
  {
   "cell_type": "markdown",
   "id": "0ef2987b-1af9-4895-89d6-689bda8bbae5",
   "metadata": {
    "editable": true,
    "slideshow": {
     "slide_type": ""
    },
    "tags": []
   },
   "source": [
    "This example has only one solution group:"
   ]
  },
  {
   "cell_type": "code",
   "execution_count": 12,
   "id": "f5ffbdf7-5cf4-4931-ad78-8c80feb8b63c",
   "metadata": {
    "editable": true,
    "slideshow": {
     "slide_type": ""
    },
    "tags": []
   },
   "outputs": [
    {
     "data": {
      "text/plain": [
       "[Solution 1 \n",
       " 1 packages\n",
       " 60 variables.]"
      ]
     },
     "execution_count": 12,
     "metadata": {},
     "output_type": "execute_result"
    }
   ],
   "source": [
    "mf6.simulation.solution_groups"
   ]
  },
  {
   "cell_type": "markdown",
   "id": "0f15cc30-05d3-494d-bea3-45eec5c5aeb5",
   "metadata": {},
   "source": [
    "This is the time discretization is: "
   ]
  },
  {
   "cell_type": "code",
   "execution_count": 13,
   "id": "05d1e2a1-e8b5-4eea-8056-493adcb4c99e",
   "metadata": {
    "editable": true,
    "slideshow": {
     "slide_type": ""
    },
    "tags": []
   },
   "outputs": [
    {
     "data": {
      "text/html": [
       "<h3>Package TDIS</h3><table><tbody><tr><td>number of variables: </td><td>20</td></tr></tbody></table>"
      ],
      "text/plain": [
       "Package TDIS \n",
       "20 variables."
      ]
     },
     "execution_count": 13,
     "metadata": {},
     "output_type": "execute_result"
    }
   ],
   "source": [
    "mf6.simulation.TDIS"
   ]
  },
  {
   "cell_type": "markdown",
   "id": "81027dd3-b4bb-4add-86bd-7298bc456d59",
   "metadata": {},
   "source": [
    "These are the names of the variables:"
   ]
  },
  {
   "cell_type": "code",
   "execution_count": 14,
   "id": "59c21009-117f-4af8-a820-9447030b73b6",
   "metadata": {},
   "outputs": [
    {
     "data": {
      "text/plain": [
       "['PERTIMSAV',\n",
       " 'TOPERTIM',\n",
       " 'ENDOFSIMULATION',\n",
       " 'TOTIMSAV',\n",
       " 'PERTIM',\n",
       " 'ITMUNI',\n",
       " 'KSTP',\n",
       " 'PERLEN',\n",
       " 'TOTIM',\n",
       " 'ENDOFPERIOD',\n",
       " 'NPER',\n",
       " 'DELTSAV',\n",
       " 'TOTALSIMTIME',\n",
       " 'TSMULT',\n",
       " 'INATS',\n",
       " 'TOTIMC',\n",
       " 'DELT',\n",
       " 'NSTP',\n",
       " 'READNEWDATA',\n",
       " 'KPER']"
      ]
     },
     "execution_count": 14,
     "metadata": {},
     "output_type": "execute_result"
    }
   ],
   "source": [
    "mf6.simulation.TDIS.var_names"
   ]
  },
  {
   "cell_type": "markdown",
   "id": "73fa325d-77ec-4fb5-8f73-9fb354119f46",
   "metadata": {},
   "source": [
    "There are scalar values:"
   ]
  },
  {
   "cell_type": "code",
   "execution_count": 15,
   "id": "e207056d-311d-4dc5-95f6-4156e6d8c668",
   "metadata": {},
   "outputs": [
    {
     "data": {
      "text/html": [
       "<h3>Variable NPER</h3><table><tbody><tr><td>value: </td><td>np.int32(4)</td></tr><tr><td>docstring: </td><td>set equal to nper</td></tr><tr><td>docstring source: </td><td>src/Timing/ats.f90\n",
       "                                 line 24</td></tr><tr><td>docstring: </td><td>number of stress period</td></tr><tr><td>docstring source: </td><td>src/Timing/tdis.f90\n",
       "                                 line 21</td></tr></tbody></table>"
      ],
      "text/plain": [
       "Variable NPER \n",
       "value: np.int32(4)\n",
       "docstring: set equal to nper\n",
       "docstring source: src/Timing/ats.f90 line 24\n",
       "docstring: number of stress period\n",
       "docstring source: src/Timing/tdis.f90 line 21"
      ]
     },
     "execution_count": 15,
     "metadata": {},
     "output_type": "execute_result"
    }
   ],
   "source": [
    "mf6.simulation.TDIS.NPER"
   ]
  },
  {
   "cell_type": "markdown",
   "id": "26bdbe41-d07e-4d40-a640-428877a03c3c",
   "metadata": {},
   "source": [
    "and arrays:"
   ]
  },
  {
   "cell_type": "code",
   "execution_count": 16,
   "id": "56748504-c16f-4927-9515-0c93609e1cbc",
   "metadata": {},
   "outputs": [
    {
     "data": {
      "text/html": [
       "<h3>Variable PERLEN</h3><table><tbody><tr><td>value: </td><td>array([ 1., 10., 10., 10.])</td></tr><tr><td>shape: </td><td>(4,)</td></tr><tr><td>docstring: </td><td>length of each stress period</td></tr><tr><td>docstring source: </td><td>src/Timing/tdis.f90\n",
       "                                 line 38</td></tr></tbody></table>"
      ],
      "text/plain": [
       "Variable PERLEN \n",
       "value: array([ 1., 10., 10., 10.])\n",
       "shape: (4,)\n",
       "docstring: length of each stress period\n",
       "docstring source: src/Timing/tdis.f90 line 38"
      ]
     },
     "execution_count": 16,
     "metadata": {},
     "output_type": "execute_result"
    }
   ],
   "source": [
    "mf6.simulation.TDIS.PERLEN"
   ]
  },
  {
   "cell_type": "markdown",
   "id": "350ba9d6-6898-49c4-bd77-b5a2da59f112",
   "metadata": {
    "editable": true,
    "slideshow": {
     "slide_type": ""
    },
    "tags": []
   },
   "source": [
    "The docstrings are extracted from the MODFLOW 6 source code from the\n",
    "used MODFLOW version as displayed with `mf6.info`."
   ]
  },
  {
   "cell_type": "markdown",
   "id": "ecb97b5f-77ac-4b06-b0f8-6ddea0621b20",
   "metadata": {},
   "source": [
    "The instance has many variables:"
   ]
  },
  {
   "cell_type": "code",
   "execution_count": 17,
   "id": "74025227-0e89-409b-a270-01c8968592d8",
   "metadata": {},
   "outputs": [
    {
     "data": {
      "text/plain": [
       "587"
      ]
     },
     "execution_count": 17,
     "metadata": {},
     "output_type": "execute_result"
    }
   ],
   "source": [
    "len(mf6.vars)"
   ]
  },
  {
   "cell_type": "markdown",
   "id": "57222ffb-4d57-4ab6-81a1-dea476dfd4ff",
   "metadata": {},
   "source": [
    "Filter for all `TDIS` entries:"
   ]
  },
  {
   "cell_type": "code",
   "execution_count": 18,
   "id": "ca87bdde-d42a-4715-a2f1-29afc4aaf7f0",
   "metadata": {},
   "outputs": [
    {
     "data": {
      "text/plain": [
       "{'TDIS/PERTIMSAV': array([0.]),\n",
       " 'TDIS/TOPERTIM': array([0.]),\n",
       " 'TDIS/TOTIMSAV': array([0.]),\n",
       " 'TDIS/PERTIM': array([1.]),\n",
       " '__INPUT__/SIM/TDIS/NSTP': array([  1, 120, 120, 120], dtype=int32),\n",
       " 'TDIS/ITMUNI': array([4], dtype=int32),\n",
       " 'TDIS/KSTP': array([1], dtype=int32),\n",
       " 'TDIS/PERLEN': array([ 1., 10., 10., 10.]),\n",
       " 'TDIS/TOTIM': array([1.]),\n",
       " 'TDIS/NPER': array([4], dtype=int32),\n",
       " 'TDIS/DELTSAV': array([0.]),\n",
       " 'TDIS/TOTALSIMTIME': array([31.]),\n",
       " '__INPUT__/SIM/TDIS/PERLEN': array([ 1., 10., 10., 10.]),\n",
       " 'TDIS/TSMULT': array([1., 1., 1., 1.]),\n",
       " 'TDIS/INATS': array([0], dtype=int32),\n",
       " 'TDIS/TOTIMC': array([0.]),\n",
       " 'TDIS/DELT': array([1.]),\n",
       " 'TDIS/NSTP': array([  1, 120, 120, 120], dtype=int32),\n",
       " '__INPUT__/SIM/TDIS/TSMULT': array([1., 1., 1., 1.]),\n",
       " '__INPUT__/SIM/TDIS/NPER': array([4], dtype=int32),\n",
       " 'TDIS/KPER': array([1], dtype=int32)}"
      ]
     },
     "execution_count": 18,
     "metadata": {},
     "output_type": "execute_result"
    }
   ],
   "source": [
    "{k: v for k, v in mf6.vars.items() if 'TDIS' in k}"
   ]
  },
  {
   "cell_type": "markdown",
   "id": "50342c44-9e11-4b59-a609-17db6edd1984",
   "metadata": {},
   "source": [
    "Show the first 20:"
   ]
  },
  {
   "cell_type": "code",
   "execution_count": 19,
   "id": "3bcf0080-310d-4e2b-aaa0-922e40320ba8",
   "metadata": {},
   "outputs": [
    {
     "data": {
      "text/plain": [
       "{'SLN_1/NCOL': array([100], dtype=int32),\n",
       " 'HEADCONWELL/CSUB/ISCLOC': array([0], dtype=int32),\n",
       " 'SLN_1/IMSLINEAR/ID': array([0, 0, 0, ..., 0, 0, 0], shape=(100,), dtype=int32),\n",
       " 'HEADCONWELL/NPF/IK33': array([1], dtype=int32),\n",
       " 'HEADCONWELL/NPF/IDEWATCV': array([0], dtype=int32),\n",
       " 'HEADCONWELL/CSUB/INAMEDBOUND': array([0], dtype=int32),\n",
       " '__INPUT__/HEADCONWELL/STO/ICONVERT': array([1, 1, 1, ..., 1, 1, 1], shape=(100,), dtype=int32),\n",
       " 'HEADCONWELL/INHFB': array([0], dtype=int32),\n",
       " 'TDIS/PERTIMSAV': array([0.]),\n",
       " 'HEADCONWELL/MYWELL/NCOLBND': array([0], dtype=int32),\n",
       " 'HEADCONWELL/VSC/THERMIVISC': array([0], dtype=int32),\n",
       " 'HEADCONWELL/VSC/ICONCSET': array([0], dtype=int32),\n",
       " 'SLN_1/IMSLINEAR/WLU': array([0.]),\n",
       " 'HEADCONWELL/IC/LASTONPER': array([0], dtype=int32),\n",
       " 'HEADCONWELL/MVR/IBUDCSV': array([0], dtype=int32),\n",
       " 'SLN_1/IMSLINEAR/IW': array([0, 0, 0, ..., 0, 0, 0], shape=(100,), dtype=int32),\n",
       " 'SLN_1/IMSLINEAR/ARO': array([0.]),\n",
       " 'TDIS/TOPERTIM': array([0.]),\n",
       " 'HEADCONWELL/VSC/IOUT': array([1012], dtype=int32),\n",
       " 'HEADCONWELL/VSC/LASTONPER': array([0], dtype=int32)}"
      ]
     },
     "execution_count": 19,
     "metadata": {},
     "output_type": "execute_result"
    }
   ],
   "source": [
    "dict(list(mf6.vars.items())[:20])"
   ]
  },
  {
   "attachments": {},
   "cell_type": "markdown",
   "id": "129f7d45-df15-471e-8ad5-98eb0d96d991",
   "metadata": {},
   "source": [
    "A simulation can have several models types.\n",
    "These include:\n",
    "\n",
    "* `gwf6` - flow model\n",
    "* `gwt6` - constituent transport model\n",
    "* `gwe6` - energy transport model\n",
    "\n",
    "They are available as a dictionary:"
   ]
  },
  {
   "cell_type": "code",
   "execution_count": 20,
   "id": "209d8166-8f90-411a-b172-defcab614dbc",
   "metadata": {
    "editable": true,
    "slideshow": {
     "slide_type": ""
    },
    "tags": []
   },
   "outputs": [
    {
     "data": {
      "text/plain": [
       "dict_keys(['gwf6'])"
      ]
     },
     "execution_count": 20,
     "metadata": {},
     "output_type": "execute_result"
    }
   ],
   "source": [
    "mf6.models.keys()"
   ]
  },
  {
   "cell_type": "markdown",
   "id": "c484b8ae-f550-44d5-b1e5-f7e26aa2b379",
   "metadata": {
    "editable": true,
    "slideshow": {
     "slide_type": ""
    },
    "tags": []
   },
   "source": [
    "The example has only a flow models.\n",
    "Let's get them:"
   ]
  },
  {
   "cell_type": "code",
   "execution_count": 21,
   "id": "03ae12b4-5822-4a8b-8f63-fe159b97a511",
   "metadata": {
    "editable": true,
    "slideshow": {
     "slide_type": ""
    },
    "tags": []
   },
   "outputs": [],
   "source": [
    "flow_models = mf6.models['gwf6']"
   ]
  },
  {
   "cell_type": "markdown",
   "id": "ea01df33-dab7-4aa6-94b2-49bb1af7523d",
   "metadata": {},
   "source": [
    "MODFLOW supports multiple flow models.\n",
    "An example is the nesting an inner model with finer discretization into an outer\n",
    "model withcoarse discritization.\n",
    "Let's get the flow model names:"
   ]
  },
  {
   "cell_type": "code",
   "execution_count": 22,
   "id": "fce29e1c-e085-4d89-b116-f950bcd0e2e6",
   "metadata": {},
   "outputs": [
    {
     "data": {
      "text/plain": [
       "dict_keys(['headconwell'])"
      ]
     },
     "execution_count": 22,
     "metadata": {},
     "output_type": "execute_result"
    }
   ],
   "source": [
    "flow_models.keys()"
   ]
  },
  {
   "cell_type": "markdown",
   "id": "ec067637-e05a-4862-8bee-422c8a1b575b",
   "metadata": {},
   "source": [
    "This simple simulation has onyl one flow model.\n",
    "We get a reference to thsi model:"
   ]
  },
  {
   "cell_type": "code",
   "execution_count": 23,
   "id": "73850635-7f08-4f4b-bfb7-411f90e0e580",
   "metadata": {},
   "outputs": [],
   "source": [
    "gwf = flow_models['headconwell']"
   ]
  },
  {
   "cell_type": "markdown",
   "id": "33e2a5e3-788f-4b26-8e0f-ebcaabfa8340",
   "metadata": {},
   "source": [
    "We can get a list if all available attributes,\n",
    "removing all names beginning\n",
    "with an underscore because they are internal names\n",
    "or special methods:"
   ]
  },
  {
   "cell_type": "code",
   "execution_count": 24,
   "id": "2e4697f8-ffe9-46e9-9cd4-255729acf73d",
   "metadata": {},
   "outputs": [
    {
     "data": {
      "text/plain": [
       "['X',\n",
       " 'allow_convergence',\n",
       " 'dis_name',\n",
       " 'dis_type',\n",
       " 'get_package',\n",
       " 'kper',\n",
       " 'kstp',\n",
       " 'mf6',\n",
       " 'name',\n",
       " 'nodetouser',\n",
       " 'nper',\n",
       " 'nstp',\n",
       " 'package_dict',\n",
       " 'package_list',\n",
       " 'package_names',\n",
       " 'package_types',\n",
       " 'packages',\n",
       " 'pkg_types',\n",
       " 'shape',\n",
       " 'size',\n",
       " 'solution_id',\n",
       " 'subcomponent_id',\n",
       " 'totim',\n",
       " 'usertonode']"
      ]
     },
     "execution_count": 24,
     "metadata": {},
     "output_type": "execute_result"
    }
   ],
   "source": [
    "[attr for attr in dir(gwf) if not attr.startswith('_')]"
   ]
  },
  {
   "cell_type": "markdown",
   "id": "f9cefaa9-5292-41c9-bd50-bf8c924b2262",
   "metadata": {},
   "source": [
    "All attributes are available via tab completion,\n",
    "i.e. typing `<TAB>` after the dot will show the list of available attributes\n",
    "and will narrow it down to match typed characters:"
   ]
  },
  {
   "cell_type": "code",
   "execution_count": 25,
   "id": "bd2a172f-4bc6-4e8f-a976-c8b73cbb341f",
   "metadata": {},
   "outputs": [
    {
     "data": {
      "text/plain": [
       "np.int32(4)"
      ]
     },
     "execution_count": 25,
     "metadata": {},
     "output_type": "execute_result"
    }
   ],
   "source": [
    "gwf.nper"
   ]
  },
  {
   "cell_type": "markdown",
   "id": "cb9f6f10-2be8-4555-ac15-7e79ba4090f3",
   "metadata": {},
   "source": [
    "The packages of a model are also available:"
   ]
  },
  {
   "cell_type": "code",
   "execution_count": 26,
   "id": "f19aee17-d767-40df-89d8-0798745e73f8",
   "metadata": {
    "editable": true,
    "slideshow": {
     "slide_type": ""
    },
    "tags": []
   },
   "outputs": [
    {
     "data": {
      "text/html": [
       "<div>\n",
       "<style scoped>\n",
       "    .dataframe tbody tr th:only-of-type {\n",
       "        vertical-align: middle;\n",
       "    }\n",
       "\n",
       "    .dataframe tbody tr th {\n",
       "        vertical-align: top;\n",
       "    }\n",
       "\n",
       "    .dataframe thead th {\n",
       "        text-align: right;\n",
       "    }\n",
       "</style>\n",
       "<table border=\"1\" class=\"dataframe\">\n",
       "  <thead>\n",
       "    <tr style=\"text-align: right;\">\n",
       "      <th></th>\n",
       "      <th>description</th>\n",
       "      <th>is_mutable</th>\n",
       "    </tr>\n",
       "    <tr>\n",
       "      <th>name</th>\n",
       "      <th></th>\n",
       "      <th></th>\n",
       "    </tr>\n",
       "  </thead>\n",
       "  <tbody>\n",
       "    <tr>\n",
       "      <th>dis</th>\n",
       "      <td>DIS Package: DIS</td>\n",
       "      <td>False</td>\n",
       "    </tr>\n",
       "    <tr>\n",
       "      <th>hfb</th>\n",
       "      <td>HFB Package: HFB</td>\n",
       "      <td>False</td>\n",
       "    </tr>\n",
       "    <tr>\n",
       "      <th>csub</th>\n",
       "      <td>CSUB Package: CSUB</td>\n",
       "      <td>False</td>\n",
       "    </tr>\n",
       "    <tr>\n",
       "      <th>mywell</th>\n",
       "      <td>WEL Package: MYWELL</td>\n",
       "      <td>True</td>\n",
       "    </tr>\n",
       "    <tr>\n",
       "      <th>mvr</th>\n",
       "      <td>MVR Package: MVR</td>\n",
       "      <td>False</td>\n",
       "    </tr>\n",
       "    <tr>\n",
       "      <th>ic</th>\n",
       "      <td>IC Package: IC</td>\n",
       "      <td>False</td>\n",
       "    </tr>\n",
       "    <tr>\n",
       "      <th>vsc</th>\n",
       "      <td>VSC Package: VSC</td>\n",
       "      <td>False</td>\n",
       "    </tr>\n",
       "    <tr>\n",
       "      <th>chd_0</th>\n",
       "      <td>CHD Package: CHD_0</td>\n",
       "      <td>True</td>\n",
       "    </tr>\n",
       "    <tr>\n",
       "      <th>buy</th>\n",
       "      <td>BUY Package: BUY</td>\n",
       "      <td>False</td>\n",
       "    </tr>\n",
       "    <tr>\n",
       "      <th>gnc</th>\n",
       "      <td>GNC Package: GNC</td>\n",
       "      <td>False</td>\n",
       "    </tr>\n",
       "    <tr>\n",
       "      <th>sto</th>\n",
       "      <td>STO Package: STO</td>\n",
       "      <td>False</td>\n",
       "    </tr>\n",
       "    <tr>\n",
       "      <th>npf</th>\n",
       "      <td>NPF Package: NPF</td>\n",
       "      <td>False</td>\n",
       "    </tr>\n",
       "  </tbody>\n",
       "</table>\n",
       "</div><h4 id=\"model-packages\">Model packages</h4>\n",
       "<p>Packages can be accessed via\n",
       "<code>model.packages.package_name</code>. If <code>package_name</code>\n",
       "is not a valid Python identifier, access with pandas logic\n",
       "<code>model.packages.loc['package_name']</code>. Packages that are\n",
       "mutable (<code>is_mutable</code> is True) can be converted in a mutable\n",
       "boundary condition with <code>.as_mutable_bc()</code>.</p>\n"
      ],
      "text/plain": [
       "                description  is_mutable\n",
       "name                                   \n",
       "dis        DIS Package: DIS       False\n",
       "hfb        HFB Package: HFB       False\n",
       "csub     CSUB Package: CSUB       False\n",
       "mywell  WEL Package: MYWELL        True\n",
       "mvr        MVR Package: MVR       False\n",
       "ic           IC Package: IC       False\n",
       "vsc        VSC Package: VSC       False\n",
       "chd_0    CHD Package: CHD_0        True\n",
       "buy        BUY Package: BUY       False\n",
       "gnc        GNC Package: GNC       False\n",
       "sto        STO Package: STO       False\n",
       "npf        NPF Package: NPF       False\n",
       "\n",
       "#### Model packages\n",
       "\n",
       "Packages can be accessed via `model.packages.package_name`. If\n",
       "`package_name` is not a valid Python identifier, access with pandas\n",
       "logic `model.packages.loc['package_name']`. Packages that are mutable\n",
       "(`is_mutable` is True) can be converted in a mutable boundary condition\n",
       "with `.as_mutable_bc()`."
      ]
     },
     "execution_count": 26,
     "metadata": {},
     "output_type": "execute_result"
    }
   ],
   "source": [
    "gwf.packages"
   ]
  },
  {
   "cell_type": "markdown",
   "id": "c98c9569-3a1f-4105-ab69-be5e12a8e096",
   "metadata": {
    "editable": true,
    "slideshow": {
     "slide_type": ""
    },
    "tags": []
   },
   "source": [
    "The well boundary condition is potentially mutable.\n",
    "Let's try to get a mutable version:"
   ]
  },
  {
   "cell_type": "code",
   "execution_count": 27,
   "id": "dcd69985-d2bb-4f84-b160-24f1d933f9b8",
   "metadata": {
    "editable": true,
    "slideshow": {
     "slide_type": ""
    },
    "tags": [
     "raises-exception"
    ]
   },
   "outputs": [
    {
     "ename": "ValueError",
     "evalue": "No values yet.\nBoundary condition MYWELL does not have any values for current stress periods.\nAdvance to a stress period with values and call this function again.",
     "output_type": "error",
     "traceback": [
      "\u001b[31mValueError\u001b[39m\u001b[31m:\u001b[39m No values yet.\nBoundary condition MYWELL does not have any values for current stress periods.\nAdvance to a stress period with values and call this function again.\n"
     ]
    }
   ],
   "source": [
    "gwf.packages.mywell.as_mutable_bc()"
   ]
  },
  {
   "cell_type": "markdown",
   "id": "9cf336f9-f7f9-4a53-823a-5cefad6aba7a",
   "metadata": {
    "editable": true,
    "slideshow": {
     "slide_type": ""
    },
    "tags": []
   },
   "source": [
    "This doesn't work yet, because there is no boundary condition in the first,\n",
    "steady-state,\n",
    "stress period."
   ]
  },
  {
   "cell_type": "markdown",
   "id": "4c726369-751f-489b-9462-5a4477491136",
   "metadata": {},
   "source": [
    "We create a reference to the model loop:"
   ]
  },
  {
   "cell_type": "code",
   "execution_count": 28,
   "id": "ec4ffabc-ac68-4125-b931-5b78ccf9cc94",
   "metadata": {
    "editable": true,
    "slideshow": {
     "slide_type": ""
    },
    "tags": []
   },
   "outputs": [],
   "source": [
    "loop = mf6.model_loop()"
   ]
  },
  {
   "cell_type": "markdown",
   "id": "c70d7b97-a4b4-49e9-b0db-51b613da2bf4",
   "metadata": {
    "editable": true,
    "slideshow": {
     "slide_type": ""
    },
    "tags": []
   },
   "source": [
    "and progress to the start of the second stress period:"
   ]
  },
  {
   "cell_type": "code",
   "execution_count": 29,
   "id": "8f38c556-c5d2-4cd8-9224-25edaeac72e0",
   "metadata": {
    "editable": true,
    "slideshow": {
     "slide_type": ""
    },
    "tags": []
   },
   "outputs": [],
   "source": [
    "for model in loop:\n",
    "    if gwf.kper > 0:\n",
    "        break"
   ]
  },
  {
   "cell_type": "markdown",
   "id": "368aa33d-0139-4f51-8cd0-a6fd2d51d077",
   "metadata": {
    "editable": true,
    "slideshow": {
     "slide_type": ""
    },
    "tags": []
   },
   "source": [
    "**Note**: Remember that the stress period count is zero-based.\n",
    "Therefore, the stress period with the index `0` is the first.\n",
    "\n",
    "Now, we are at the beginning of the second stress period:"
   ]
  },
  {
   "cell_type": "code",
   "execution_count": 30,
   "id": "6891da55-7dea-46f2-89bc-de5a360df2a1",
   "metadata": {
    "editable": true,
    "slideshow": {
     "slide_type": ""
    },
    "tags": []
   },
   "outputs": [
    {
     "data": {
      "text/plain": [
       "<States.stress_period_start: 1>"
      ]
     },
     "execution_count": 30,
     "metadata": {},
     "output_type": "execute_result"
    }
   ],
   "source": [
    "model.state"
   ]
  },
  {
   "cell_type": "markdown",
   "id": "3a70f6d4-612b-46f2-8673-fb9080800c0e",
   "metadata": {},
   "source": [
    "and can create a mutable version of our well boundary conditions:"
   ]
  },
  {
   "cell_type": "code",
   "execution_count": 31,
   "id": "fb7a50d6-b661-49e2-a698-8a00e9f7e78e",
   "metadata": {
    "editable": true,
    "slideshow": {
     "slide_type": ""
    },
    "tags": []
   },
   "outputs": [],
   "source": [
    "mywell = gwf.packages.mywell.as_mutable_bc()"
   ]
  },
  {
   "cell_type": "markdown",
   "id": "aeea5da7-5a39-4bb8-9081-f82d8a9fdec0",
   "metadata": {},
   "source": [
    "There is one well in the middle of the model (1st layer, 5th row, 5th column) \n",
    "with a pumping rate of 0.05 $m^3/s$:"
   ]
  },
  {
   "cell_type": "code",
   "execution_count": 32,
   "id": "0cf984de-0f14-48e4-aa93-9311942c35f2",
   "metadata": {
    "editable": true,
    "slideshow": {
     "slide_type": ""
    },
    "tags": []
   },
   "outputs": [
    {
     "data": {
      "text/html": [
       "<div>\n",
       "<style scoped>\n",
       "    .dataframe tbody tr th:only-of-type {\n",
       "        vertical-align: middle;\n",
       "    }\n",
       "\n",
       "    .dataframe tbody tr th {\n",
       "        vertical-align: top;\n",
       "    }\n",
       "\n",
       "    .dataframe thead th {\n",
       "        text-align: right;\n",
       "    }\n",
       "</style>\n",
       "<table border=\"1\" class=\"dataframe\">\n",
       "  <thead>\n",
       "    <tr style=\"text-align: right;\">\n",
       "      <th></th>\n",
       "      <th>nodelist</th>\n",
       "      <th>q</th>\n",
       "    </tr>\n",
       "  </thead>\n",
       "  <tbody>\n",
       "    <tr>\n",
       "      <th>0</th>\n",
       "      <td>(0, 4, 4)</td>\n",
       "      <td>-0.05</td>\n",
       "    </tr>\n",
       "  </tbody>\n",
       "</table>\n",
       "</div>"
      ],
      "text/plain": [
       "    nodelist     q\n",
       "0  (0, 4, 4) -0.05"
      ]
     },
     "execution_count": 32,
     "metadata": {},
     "output_type": "execute_result"
    }
   ],
   "source": [
    "mywell"
   ]
  },
  {
   "cell_type": "markdown",
   "id": "a4bb4f47-ddf0-4236-90d9-bdeff9736577",
   "metadata": {},
   "source": [
    "We can progress to the next stress period:"
   ]
  },
  {
   "cell_type": "code",
   "execution_count": 33,
   "id": "55e5c293-2cf7-4a43-bf43-7765947304ce",
   "metadata": {},
   "outputs": [],
   "source": [
    "for model in loop:\n",
    "    if gwf.kper > 1:\n",
    "        break"
   ]
  },
  {
   "cell_type": "markdown",
   "id": "c3a9d50c-8cd4-490e-9ef7-f14c62503712",
   "metadata": {},
   "source": [
    "which has a different pumping rate:"
   ]
  },
  {
   "cell_type": "code",
   "execution_count": 34,
   "id": "a794f331-9eb5-44e3-9779-f116230bcea0",
   "metadata": {},
   "outputs": [
    {
     "data": {
      "text/html": [
       "<div>\n",
       "<style scoped>\n",
       "    .dataframe tbody tr th:only-of-type {\n",
       "        vertical-align: middle;\n",
       "    }\n",
       "\n",
       "    .dataframe tbody tr th {\n",
       "        vertical-align: top;\n",
       "    }\n",
       "\n",
       "    .dataframe thead th {\n",
       "        text-align: right;\n",
       "    }\n",
       "</style>\n",
       "<table border=\"1\" class=\"dataframe\">\n",
       "  <thead>\n",
       "    <tr style=\"text-align: right;\">\n",
       "      <th></th>\n",
       "      <th>nodelist</th>\n",
       "      <th>q</th>\n",
       "    </tr>\n",
       "  </thead>\n",
       "  <tbody>\n",
       "    <tr>\n",
       "      <th>0</th>\n",
       "      <td>(0, 4, 4)</td>\n",
       "      <td>-0.5</td>\n",
       "    </tr>\n",
       "  </tbody>\n",
       "</table>\n",
       "</div>"
      ],
      "text/plain": [
       "    nodelist    q\n",
       "0  (0, 4, 4) -0.5"
      ]
     },
     "execution_count": 34,
     "metadata": {},
     "output_type": "execute_result"
    }
   ],
   "source": [
    "mywell"
   ]
  },
  {
   "cell_type": "markdown",
   "id": "16d632bc-2bb1-41f7-b7a9-149c01469ae3",
   "metadata": {},
   "source": [
    "We can modify the pumping rate.\n",
    "Let's make it 10% higher:"
   ]
  },
  {
   "cell_type": "code",
   "execution_count": 35,
   "id": "815c02e6-7445-442a-a8f6-f7892f4a24a0",
   "metadata": {},
   "outputs": [],
   "source": [
    "mywell.q *= 1.1"
   ]
  },
  {
   "cell_type": "markdown",
   "id": "e16280b9-8047-4bf4-990c-b2a9ee102cba",
   "metadata": {},
   "source": [
    "The changes are written back into MODFLOW simulation and will be used until for\n",
    "the calculations until MODFLOW reads new values for this boundary condition. \n",
    "This happens at the start of the next stress period \n",
    "or when new time series values are read."
   ]
  },
  {
   "cell_type": "code",
   "execution_count": 36,
   "id": "9e0380f3-7267-4ad7-9443-c0a2c3952029",
   "metadata": {},
   "outputs": [
    {
     "data": {
      "text/html": [
       "<div>\n",
       "<style scoped>\n",
       "    .dataframe tbody tr th:only-of-type {\n",
       "        vertical-align: middle;\n",
       "    }\n",
       "\n",
       "    .dataframe tbody tr th {\n",
       "        vertical-align: top;\n",
       "    }\n",
       "\n",
       "    .dataframe thead th {\n",
       "        text-align: right;\n",
       "    }\n",
       "</style>\n",
       "<table border=\"1\" class=\"dataframe\">\n",
       "  <thead>\n",
       "    <tr style=\"text-align: right;\">\n",
       "      <th></th>\n",
       "      <th>nodelist</th>\n",
       "      <th>q</th>\n",
       "    </tr>\n",
       "  </thead>\n",
       "  <tbody>\n",
       "    <tr>\n",
       "      <th>0</th>\n",
       "      <td>(0, 4, 4)</td>\n",
       "      <td>-0.55</td>\n",
       "    </tr>\n",
       "  </tbody>\n",
       "</table>\n",
       "</div>"
      ],
      "text/plain": [
       "    nodelist     q\n",
       "0  (0, 4, 4) -0.55"
      ]
     },
     "execution_count": 36,
     "metadata": {},
     "output_type": "execute_result"
    }
   ],
   "source": [
    "mywell"
   ]
  }
 ],
 "metadata": {
  "kernelspec": {
   "display_name": "Python 3 (ipykernel)",
   "language": "python",
   "name": "python3"
  },
  "language_info": {
   "codemirror_mode": {
    "name": "ipython",
    "version": 3
   },
   "file_extension": ".py",
   "mimetype": "text/x-python",
   "name": "python",
   "nbconvert_exporter": "python",
   "pygments_lexer": "ipython3",
   "version": "3.13.2"
  }
 },
 "nbformat": 4,
 "nbformat_minor": 5
}
