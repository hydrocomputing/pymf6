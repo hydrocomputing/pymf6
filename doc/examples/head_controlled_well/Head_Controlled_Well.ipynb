{
 "cells": [
  {
   "cell_type": "code",
   "execution_count": 1,
   "id": "24c87f06-8222-4ff4-ad7c-c8e93259a7f3",
   "metadata": {
    "editable": true,
    "slideshow": {
     "slide_type": ""
    },
    "tags": [
     "remove-cell"
    ]
   },
   "outputs": [
    {
     "name": "stdout",
     "output_type": "stream",
     "text": [
      "Exception reporting mode: Minimal\n"
     ]
    }
   ],
   "source": [
    "%load_ext jbmagics\n",
    "import sys\n",
    "sys.path.insert(0, '..')\n",
    "%load_ext autoreload\n",
    "%autoreload 2"
   ]
  },
  {
   "cell_type": "markdown",
   "id": "6e619510-18bc-407e-a5ea-227cddc0b4aa",
   "metadata": {
    "editable": true,
    "slideshow": {
     "slide_type": ""
    },
    "tags": []
   },
   "source": [
    "# Example: Head Controlled Well\n",
    "\n",
    "This example demonstrates how `pymf6` can be used to control the rate of an\n",
    "extraction well so that the well water level does fall below under a given water\n",
    "level."
   ]
  },
  {
   "cell_type": "markdown",
   "id": "b29f3fac-76bd-4242-a2d6-96588cbc625a",
   "metadata": {
    "editable": true,
    "slideshow": {
     "slide_type": ""
    },
    "tags": []
   },
   "source": [
    "## Using a simple model\n",
    "\n",
    "The model was created with `flopy` with a script in\n",
    "[pymf6-tools](https://github.com/hydrocomputing/pymf6-tools).\n",
    "You may use any GUI tool such as ModelMuse to create such a model.\n",
    "This is not specific to `pymf6` but helps to better understand the problem.\n",
    "You may skip ahead to the section with use of `pymf6`.\n"
   ]
  },
  {
   "cell_type": "code",
   "execution_count": 2,
   "id": "111b9ef0-5cc2-4a26-b65a-d863e688b929",
   "metadata": {
    "editable": true,
    "slideshow": {
     "slide_type": ""
    },
    "tags": [
     "remove-cell"
    ]
   },
   "outputs": [],
   "source": [
    "from pathlib import Path\n",
    "\n",
    "from pymf6_tools.base_model import make_model_data\n",
    "from pymf6_tools.make_model import make_input, run_simulation\n",
    "from pymf6_tools.plotting import show_heads, show_well_head, show_bcs"
   ]
  },
  {
   "cell_type": "code",
   "execution_count": 3,
   "id": "f05f238d-97c2-4115-a183-8ca52f194b5d",
   "metadata": {
    "editable": true,
    "slideshow": {
     "slide_type": ""
    },
    "tags": [
     "remove-cell"
    ]
   },
   "outputs": [],
   "source": [
    "model_path = 'models/mf6'\n",
    "name = 'headconwell'\n",
    "\n",
    "specific_model_data = {\n",
    "    'model_path': model_path,\n",
    "    'name': name,\n",
    "    'wells_active': True,\n",
    "    'well_name': 'mywell',\n",
    "    'wells': {\n",
    "        'wel_out': {'q': (-0.05, -0.5, -0.05), 'coords': (0, 4, 4)},\n",
    "              },\n",
    "    'nrow': 10,\n",
    "    'ncol': 10,\n",
    "    'nlay': 1,\n",
    "    'delr': 1.0,\n",
    "    'delc': 1.0,\n",
    "    'top': 1.0,\n",
    "    'botm': 0.0,\n",
    "    #  flopy.mf6.ModflowGwfnpf\n",
    "    'k': [0.5],  # initial value of k\n",
    "    'k33': [0.1],  # vertical anisotropy\n",
    "    # flopy.mf6.ModflowGwfchd(\n",
    "    'chd': [\n",
    "        [(0, 0, 0), 1.],\n",
    "        [(0, 9, 9), 1.]\n",
    "    ],\n",
    "}\n",
    "\n",
    "model_data = make_model_data(specific_model_data)"
   ]
  },
  {
   "cell_type": "code",
   "execution_count": 4,
   "id": "09ad303d-cec3-4230-96bb-c5d502e06c92",
   "metadata": {},
   "outputs": [],
   "source": [
    "make_input(model_data)"
   ]
  },
  {
   "cell_type": "code",
   "execution_count": 5,
   "id": "460966ba-7574-4f8a-ad07-c1847bd9ab01",
   "metadata": {
    "editable": true,
    "slideshow": {
     "slide_type": ""
    },
    "tags": [
     "remove-cell"
    ]
   },
   "outputs": [],
   "source": [
    "def table():\n",
    "    keys = ['nrow', 'ncol', 'nlay', 'delr', 'delc', 'top', 'botm']\n",
    "    return '\\n'.join(f'{k} | {specific_model_data[k]}' for k in keys)"
   ]
  },
  {
   "cell_type": "markdown",
   "id": "acaa53cb-86d7-4299-bc0e-24c6fa5788e3",
   "metadata": {
    "editable": true,
    "slideshow": {
     "slide_type": ""
    },
    "tags": [
     "remove-input"
    ]
   },
   "source": [
    "### Geometry\n",
    "\n",
    "The model has 1, layer, 10 rows, and 10 columns with a size of 1 m in all\n",
    "dimensions:\n",
    "\n",
    "name | value \n",
    "-----|------\n",
    "nrow | 10\n",
    "ncol | 10\n",
    "nlay | 1\n",
    "delr | 1.0\n",
    "delc | 1.0\n",
    "top | 1.0\n",
    "botm | 0.0\n"
   ]
  },
  {
   "cell_type": "markdown",
   "id": "466f81da-8672-4b82-bc99-ba52b4f1b1fc",
   "metadata": {
    "editable": true,
    "slideshow": {
     "slide_type": ""
    },
    "tags": []
   },
   "source": [
    "It has two constant head boundary conditions in the corners and a well in the\n",
    "middle:"
   ]
  },
  {
   "cell_type": "code",
   "execution_count": 6,
   "id": "110f35dd-a460-44f3-81ef-e3f35f7f8306",
   "metadata": {
    "editable": true,
    "slideshow": {
     "slide_type": ""
    },
    "tags": []
   },
   "outputs": [
    {
     "data": {
      "image/png": "[encoded data removed]",
      "text/plain": [
       "<Figure size 640x480 with 1 Axes>"
      ]
     },
     "metadata": {},
     "output_type": "display_data"
    }
   ],
   "source": [
    "show_bcs(model_path=model_path, name=name, bc_names=('wel', 'chd'));"
   ]
  },
  {
   "cell_type": "markdown",
   "id": "be760d31-4335-4909-9e70-736c4de43ce8",
   "metadata": {
    "editable": true,
    "slideshow": {
     "slide_type": ""
    },
    "tags": []
   },
   "source": [
    "There are 4 stress periods.\n",
    "The first is steady state to get consistent starting conditions.\n",
    "The next three stress periods are transient:"
   ]
  },
  {
   "cell_type": "code",
   "execution_count": 7,
   "id": "a7e80744-36e0-4fdf-818b-4a11e85e81bb",
   "metadata": {
    "editable": true,
    "slideshow": {
     "slide_type": ""
    },
    "tags": []
   },
   "outputs": [
    {
     "data": {
      "text/markdown": [
       "```ini\n",
       "BEGIN options\n",
       "  TIME_UNITS  days\n",
       "END options\n",
       "\n",
       "BEGIN dimensions\n",
       "  NPER  4\n",
       "END dimensions\n",
       "\n",
       "BEGIN perioddata\n",
       "       1.00000000  1       1.00000000\n",
       "      10.00000000  120       1.00000000\n",
       "      10.00000000  120       1.00000000\n",
       "      10.00000000  120       1.00000000\n",
       "END perioddata\n",
       "```\n"
      ],
      "text/plain": [
       "<IPython.core.display.Markdown object>"
      ]
     },
     "metadata": {},
     "output_type": "display_data"
    }
   ],
   "source": [
    "%%include models/mf6/gwf_headconwell.tdis\n",
    "lang = 'ini'\n",
    "start_at = 'BEGIN'"
   ]
  },
  {
   "cell_type": "markdown",
   "id": "b446388f-1a33-42ee-8a27-8c63e17b105d",
   "metadata": {
    "editable": true,
    "slideshow": {
     "slide_type": ""
    },
    "tags": []
   },
   "source": [
    "There is no pumping in the first, steady state stress period. \n",
    "The pumping rate varies between the following, transient, stress periods:"
   ]
  },
  {
   "cell_type": "code",
   "execution_count": 8,
   "id": "cbef7a4a-f37b-4fc0-800b-75c5785a0ae6",
   "metadata": {
    "editable": true,
    "slideshow": {
     "slide_type": ""
    },
    "tags": []
   },
   "outputs": [
    {
     "data": {
      "text/markdown": [
       "```ini\n",
       "BEGIN options\n",
       "END options\n",
       "\n",
       "BEGIN dimensions\n",
       "  MAXBOUND  1\n",
       "END dimensions\n",
       "\n",
       "BEGIN period  2\n",
       "  1 5 5 -5.00000000E-02\n",
       "END period  2\n",
       "\n",
       "BEGIN period  3\n",
       "  1 5 5 -5.00000000E-01\n",
       "END period  3\n",
       "\n",
       "BEGIN period  4\n",
       "  1 5 5 -5.00000000E-02\n",
       "END period  4\n",
       "```\n"
      ],
      "text/plain": [
       "<IPython.core.display.Markdown object>"
      ]
     },
     "metadata": {},
     "output_type": "display_data"
    }
   ],
   "source": [
    "%%include models/mf6/gwf_headconwell.wel\n",
    "lang = 'ini'\n",
    "start_at = 'BEGIN'"
   ]
  },
  {
   "cell_type": "code",
   "execution_count": 9,
   "id": "e6e6aa07-019a-4f53-a8eb-e4f861eef6cb",
   "metadata": {
    "editable": true,
    "slideshow": {
     "slide_type": ""
    },
    "tags": [
     "remove-cell"
    ]
   },
   "outputs": [],
   "source": [
    "run_simulation(model_path=model_path)"
   ]
  },
  {
   "cell_type": "markdown",
   "id": "cd19fa5d-5097-4b09-8f98-7cfb0f172f07",
   "metadata": {
    "editable": true,
    "slideshow": {
     "slide_type": ""
    },
    "tags": []
   },
   "source": [
    "### Looking at the model results\n",
    "\n",
    "After running the model,\n",
    "we can look at the results.\n",
    "This function visualizes the head at the end of the last time step: "
   ]
  },
  {
   "cell_type": "code",
   "execution_count": 10,
   "id": "e4117cb5-06be-4239-9428-f6d4adfb07fc",
   "metadata": {
    "editable": true,
    "slideshow": {
     "slide_type": ""
    },
    "tags": []
   },
   "outputs": [
    {
     "data": {
      "image/png": "[encoded data removed]",
      "text/plain": [
       "<Figure size 640x480 with 2 Axes>"
      ]
     },
     "metadata": {},
     "output_type": "display_data"
    }
   ],
   "source": [
    "show_heads(model_path=model_path, name=name, title='', show_wells=True);"
   ]
  },
  {
   "cell_type": "markdown",
   "id": "fe8d0305-1d97-4475-ac9b-6c9e98077e68",
   "metadata": {
    "editable": true,
    "slideshow": {
     "slide_type": ""
    },
    "tags": []
   },
   "source": [
    "The well is roughly in the middle of the model.\n",
    "The yellow cells have a constant water level and \"feed\" the model.\n",
    "The well causes a cone of depression:"
   ]
  },
  {
   "cell_type": "code",
   "execution_count": 11,
   "id": "fbd26739-5f81-4451-a15c-0491fed77734",
   "metadata": {
    "editable": true,
    "slideshow": {
     "slide_type": ""
    },
    "tags": [
     "remove-cell"
    ]
   },
   "outputs": [],
   "source": [
    "wel_coords = model_data['wells']['wel_out']['coords']"
   ]
  },
  {
   "cell_type": "code",
   "execution_count": 12,
   "id": "7b3b60f6-10b0-4e10-b1fc-dd8c57d6873d",
   "metadata": {
    "editable": true,
    "slideshow": {
     "slide_type": ""
    },
    "tags": [
     "remove-input"
    ]
   },
   "outputs": [
    {
     "data": {
      "image/png": "[encoded data removed]",
      "text/plain": [
       "<Figure size 640x480 with 1 Axes>"
      ]
     },
     "metadata": {},
     "output_type": "display_data"
    }
   ],
   "source": [
    "out = show_well_head(\n",
    "    wel_coords=wel_coords, \n",
    "    model_path=model_path,\n",
    "    model_name=name,\n",
    "    times=model_data['times'],\n",
    "    lower_head_limit=0.49, \n",
    "    upper_head_limit=0.51);"
   ]
  },
  {
   "cell_type": "markdown",
   "id": "d571fc75-8053-4bbd-98b1-297f63c9bc96",
   "metadata": {
    "editable": true,
    "slideshow": {
     "slide_type": ""
    },
    "tags": []
   },
   "source": [
    "The four stress periods are indicated by the blue dotted vertical lines.\n",
    "The first period, that is steady state, has only one time step.\n",
    "Periods two to four are transient from day 1 to 11, 11 to 21, and 21 to 31\n",
    "with different extraction rate.\n",
    "The well water level reflects the pumping.\n",
    "Period three has the full rate and periods two and four have only a tenth of the\n",
    "rate.\n",
    "The two dotted read horizontal lines show the desired mininmum well water level\n",
    "of 0.5 m with a corridor of 0.01 m."
   ]
  },
  {
   "cell_type": "markdown",
   "id": "978f1313-0030-4378-a5d0-8fcd2dd33a9c",
   "metadata": {
    "editable": true,
    "slideshow": {
     "slide_type": ""
    },
    "tags": []
   },
   "source": [
    "## Working with `pymf6`\n",
    "\n",
    "Now, we will use `pymf6`.\n",
    "The objective is the avoid a drop of the groundwater level at the well below a \n",
    "given limit."
   ]
  },
  {
   "cell_type": "code",
   "execution_count": 13,
   "id": "c0617cd5-a5c9-4e40-9ee1-084fc0c22e89",
   "metadata": {
    "editable": true,
    "slideshow": {
     "slide_type": ""
    },
    "tags": [
     "remove-cell"
    ]
   },
   "outputs": [],
   "source": [
    "import pandas as pd\n",
    "\n",
    "from pymf6.modeling_tools import make_model\n",
    "from pymf6.modeling_tools.base_model import make_model_data\n",
    "from pymf6.modeling_tools.plotting import show_well_head"
   ]
  },
  {
   "cell_type": "code",
   "execution_count": 14,
   "id": "fa51de48-9060-49a3-9569-4cb035852da9",
   "metadata": {
    "editable": true,
    "slideshow": {
     "slide_type": ""
    },
    "tags": [
     "remove-cell"
    ]
   },
   "outputs": [],
   "source": [
    "model_path ='models/pymf6'\n",
    "name = 'headconwell'\n",
    "\n",
    "specific_model_data = {\n",
    "    'model_path': model_path,\n",
    "    'name': name,\n",
    "}\n",
    "\n",
    "model_data = make_model_data(specific_model_data)\n",
    "\n",
    "pymf6_model_data = make_model_data(specific_model_data, base_model_data=model_data)"
   ]
  },
  {
   "cell_type": "code",
   "execution_count": 15,
   "id": "e59fb9f1-2e64-46b7-bc52-aad1455f129b",
   "metadata": {
    "editable": true,
    "slideshow": {
     "slide_type": ""
    },
    "tags": []
   },
   "outputs": [],
   "source": [
    "wel_coords = model_data['wells']['wel_out']['coords']"
   ]
  },
  {
   "cell_type": "code",
   "execution_count": 16,
   "id": "24da9dc1-149a-4da5-a81b-080284348b22",
   "metadata": {
    "editable": true,
    "slideshow": {
     "slide_type": ""
    },
    "tags": [
     "remove-cell"
    ]
   },
   "outputs": [],
   "source": [
    "from functools import partial\n",
    "\n",
    "show_my_well_head = partial(show_well_head,\n",
    "                            wel_coords=wel_coords,\n",
    "                            lower_head_limit=0.49,\n",
    "                            upper_head_limit=0.51)"
   ]
  },
  {
   "cell_type": "markdown",
   "id": "d4b06e4f-776f-4027-9088-f6b8a8353504",
   "metadata": {
    "editable": true,
    "slideshow": {
     "slide_type": ""
    },
    "tags": []
   },
   "source": [
    "Creating the input files:"
   ]
  },
  {
   "cell_type": "code",
   "execution_count": 17,
   "id": "b7c29b26-eda9-4e64-bd3c-4e23bce7299c",
   "metadata": {
    "editable": true,
    "slideshow": {
     "slide_type": ""
    },
    "tags": []
   },
   "outputs": [],
   "source": [
    "make_model.make_input(\n",
    "    pymf6_model_data\n",
    ")"
   ]
  },
  {
   "cell_type": "markdown",
   "id": "452f07ae-0ab1-4a84-b353-595efefde35f",
   "metadata": {
    "editable": true,
    "slideshow": {
     "slide_type": ""
    },
    "tags": []
   },
   "source": [
    "We run the model with `pymf6`.\n",
    "We need to import the class `MF6`:"
   ]
  },
  {
   "cell_type": "code",
   "execution_count": 18,
   "id": "b3729a51-26d1-4b7b-8afb-422f0dacf724",
   "metadata": {
    "editable": true,
    "slideshow": {
     "slide_type": ""
    },
    "tags": []
   },
   "outputs": [],
   "source": [
    "from pymf6.mf6 import MF6"
   ]
  },
  {
   "cell_type": "markdown",
   "id": "66fc5e1f-bc11-4731-9328-1e9f2381ec3a",
   "metadata": {
    "editable": true,
    "slideshow": {
     "slide_type": ""
    },
    "tags": []
   },
   "source": [
    "We define variables,\n",
    "holding the values for the target water level and the tolerance  that define\n",
    "the limits of allowed corridor:"
   ]
  },
  {
   "cell_type": "code",
   "execution_count": 19,
   "id": "2560917d-59e6-4c75-b32a-d5d35d943475",
   "metadata": {
    "editable": true,
    "slideshow": {
     "slide_type": ""
    },
    "tags": []
   },
   "outputs": [],
   "source": [
    "tolerance = 0.01\n",
    "head_limit = 0.5\n",
    "upper_limit = head_limit + tolerance\n",
    "lower_limit = head_limit - tolerance"
   ]
  },
  {
   "cell_type": "markdown",
   "id": "e68c293c-4da1-4faf-9754-3e96ad575b0e",
   "metadata": {
    "editable": true,
    "slideshow": {
     "slide_type": ""
    },
    "tags": []
   },
   "source": [
    "We creat and instance of the `MF6`:"
   ]
  },
  {
   "cell_type": "code",
   "execution_count": 20,
   "id": "830425fb-6801-49f0-a9ab-9ac96e7a9144",
   "metadata": {},
   "outputs": [
    {
     "data": {
      "text/plain": [
       "\u001b[31mInit signature:\u001b[39m\n",
       "MF6(\n",
       "    sim_path,\n",
       "    dll_path=\u001b[38;5;28;01mNone\u001b[39;00m,\n",
       "    use_modflow_api=\u001b[38;5;28;01mTrue\u001b[39;00m,\n",
       "    advance_first_step=\u001b[38;5;28;01mTrue\u001b[39;00m,\n",
       "    verbose=\u001b[38;5;28;01mFalse\u001b[39;00m,\n",
       "    new_step_only=\u001b[38;5;28;01mFalse\u001b[39;00m,\n",
       "    do_solution_loop=\u001b[38;5;28;01mTrue\u001b[39;00m,\n",
       "    _develop=\u001b[38;5;28;01mFalse\u001b[39;00m,\n",
       ")\n",
       "\u001b[31mDocstring:\u001b[39m     \n",
       "Wrapper around XmiWrapper and modflowapi.\n",
       "\n",
       "`advance_first_step = True` progresses to the first model step with\n",
       "model time > 0. This is needed to access any internal values of BCs.\n",
       "\u001b[31mFile:\u001b[39m           ~/Dev/pymf6/src/pymf6/mf6.py\n",
       "\u001b[31mType:\u001b[39m           type\n",
       "\u001b[31mSubclasses:\u001b[39m     "
      ]
     },
     "metadata": {},
     "output_type": "display_data"
    }
   ],
   "source": [
    "MF6?"
   ]
  },
  {
   "cell_type": "code",
   "execution_count": 21,
   "id": "228b7728-38eb-44d4-9a6a-2a2ed141b313",
   "metadata": {
    "editable": true,
    "slideshow": {
     "slide_type": ""
    },
    "tags": []
   },
   "outputs": [],
   "source": [
    "mf6 = MF6(model_path)"
   ]
  },
  {
   "cell_type": "markdown",
   "id": "5b7b99f5-3252-49a1-ae35-8d56493ad2fd",
   "metadata": {},
   "source": [
    "There are only flow models:"
   ]
  },
  {
   "cell_type": "code",
   "execution_count": 22,
   "id": "99c2508c-7fef-4a32-be09-3742a338cebf",
   "metadata": {},
   "outputs": [
    {
     "data": {
      "text/plain": [
       "dict_keys(['gwf6'])"
      ]
     },
     "execution_count": 22,
     "metadata": {},
     "output_type": "execute_result"
    }
   ],
   "source": [
    "mf6.models.keys()"
   ]
  },
  {
   "cell_type": "markdown",
   "id": "4daeee06-b677-46b4-9938-f4e015dc3136",
   "metadata": {
    "editable": true,
    "slideshow": {
     "slide_type": ""
    },
    "tags": []
   },
   "source": [
    "Get the flow models:"
   ]
  },
  {
   "cell_type": "code",
   "execution_count": 23,
   "id": "6423d6b8-3245-4052-afd7-fab88401abbd",
   "metadata": {
    "editable": true,
    "slideshow": {
     "slide_type": ""
    },
    "tags": []
   },
   "outputs": [],
   "source": [
    "gwf_models = mf6.models['gwf6']"
   ]
  },
  {
   "cell_type": "markdown",
   "id": "96ee2c39-a80f-47c3-b8eb-f6c3d56a8aa0",
   "metadata": {},
   "source": [
    "There is onyl one flow model:"
   ]
  },
  {
   "cell_type": "code",
   "execution_count": 24,
   "id": "a93c4143-4ee1-4695-80d1-ea4d338bfb71",
   "metadata": {},
   "outputs": [
    {
     "data": {
      "text/plain": [
       "dict_keys(['headconwell'])"
      ]
     },
     "execution_count": 24,
     "metadata": {},
     "output_type": "execute_result"
    }
   ],
   "source": [
    "gwf_models.keys()"
   ]
  },
  {
   "cell_type": "markdown",
   "id": "096c7344-caad-47bf-abfb-3aabacdd24fe",
   "metadata": {},
   "source": [
    "We get a reference to this model:"
   ]
  },
  {
   "cell_type": "code",
   "execution_count": 25,
   "id": "0a21221f-0c5e-4af4-84ed-23ef0811775b",
   "metadata": {},
   "outputs": [],
   "source": [
    "gwf = gwf_models['headconwell']"
   ]
  },
  {
   "cell_type": "markdown",
   "id": "50759140-6d04-422c-ac39-833b144fe737",
   "metadata": {
    "editable": true,
    "slideshow": {
     "slide_type": ""
    },
    "tags": []
   },
   "source": [
    "These are the available packages:"
   ]
  },
  {
   "cell_type": "code",
   "execution_count": 26,
   "id": "36b986ee-a818-47e8-a7a7-7ec3a2a752f5",
   "metadata": {
    "editable": true,
    "slideshow": {
     "slide_type": ""
    },
    "tags": []
   },
   "outputs": [
    {
     "data": {
      "text/html": [
       "<div>\n",
       "<style scoped>\n",
       "    .dataframe tbody tr th:only-of-type {\n",
       "        vertical-align: middle;\n",
       "    }\n",
       "\n",
       "    .dataframe tbody tr th {\n",
       "        vertical-align: top;\n",
       "    }\n",
       "\n",
       "    .dataframe thead th {\n",
       "        text-align: right;\n",
       "    }\n",
       "</style>\n",
       "<table border=\"1\" class=\"dataframe\">\n",
       "  <thead>\n",
       "    <tr style=\"text-align: right;\">\n",
       "      <th></th>\n",
       "      <th>description</th>\n",
       "      <th>is_mutable</th>\n",
       "    </tr>\n",
       "    <tr>\n",
       "      <th>name</th>\n",
       "      <th></th>\n",
       "      <th></th>\n",
       "    </tr>\n",
       "  </thead>\n",
       "  <tbody>\n",
       "    <tr>\n",
       "      <th>dis</th>\n",
       "      <td>DIS Package: DIS</td>\n",
       "      <td>False</td>\n",
       "    </tr>\n",
       "    <tr>\n",
       "      <th>hfb</th>\n",
       "      <td>HFB Package: HFB</td>\n",
       "      <td>False</td>\n",
       "    </tr>\n",
       "    <tr>\n",
       "      <th>csub</th>\n",
       "      <td>CSUB Package: CSUB</td>\n",
       "      <td>False</td>\n",
       "    </tr>\n",
       "    <tr>\n",
       "      <th>mywell</th>\n",
       "      <td>WEL Package: MYWELL</td>\n",
       "      <td>True</td>\n",
       "    </tr>\n",
       "    <tr>\n",
       "      <th>mvr</th>\n",
       "      <td>MVR Package: MVR</td>\n",
       "      <td>False</td>\n",
       "    </tr>\n",
       "    <tr>\n",
       "      <th>ic</th>\n",
       "      <td>IC Package: IC</td>\n",
       "      <td>False</td>\n",
       "    </tr>\n",
       "    <tr>\n",
       "      <th>vsc</th>\n",
       "      <td>VSC Package: VSC</td>\n",
       "      <td>False</td>\n",
       "    </tr>\n",
       "    <tr>\n",
       "      <th>chd_0</th>\n",
       "      <td>CHD Package: CHD_0</td>\n",
       "      <td>True</td>\n",
       "    </tr>\n",
       "    <tr>\n",
       "      <th>buy</th>\n",
       "      <td>BUY Package: BUY</td>\n",
       "      <td>False</td>\n",
       "    </tr>\n",
       "    <tr>\n",
       "      <th>gnc</th>\n",
       "      <td>GNC Package: GNC</td>\n",
       "      <td>False</td>\n",
       "    </tr>\n",
       "    <tr>\n",
       "      <th>sto</th>\n",
       "      <td>STO Package: STO</td>\n",
       "      <td>False</td>\n",
       "    </tr>\n",
       "    <tr>\n",
       "      <th>npf</th>\n",
       "      <td>NPF Package: NPF</td>\n",
       "      <td>False</td>\n",
       "    </tr>\n",
       "  </tbody>\n",
       "</table>\n",
       "</div><h4 id=\"model-packages\">Model packages</h4>\n",
       "<p>Packages can be accessed via\n",
       "<code>model.packages.package_name</code>. If <code>package_name</code>\n",
       "is not a valid Python identifier, access with pandas logic\n",
       "<code>model.packages.loc['package_name']</code>. Packages that are\n",
       "mutable (<code>is_mutable</code> is True) can be converted in a mutable\n",
       "boundary condition with <code>.as_mutable_bc()</code>.</p>\n"
      ],
      "text/plain": [
       "                description  is_mutable\n",
       "name                                   \n",
       "dis        DIS Package: DIS       False\n",
       "hfb        HFB Package: HFB       False\n",
       "csub     CSUB Package: CSUB       False\n",
       "mywell  WEL Package: MYWELL        True\n",
       "mvr        MVR Package: MVR       False\n",
       "ic           IC Package: IC       False\n",
       "vsc        VSC Package: VSC       False\n",
       "chd_0    CHD Package: CHD_0        True\n",
       "buy        BUY Package: BUY       False\n",
       "gnc        GNC Package: GNC       False\n",
       "sto        STO Package: STO       False\n",
       "npf        NPF Package: NPF       False\n",
       "\n",
       "#### Model packages\n",
       "\n",
       "Packages can be accessed via `model.packages.package_name`. If\n",
       "`package_name` is not a valid Python identifier, access with pandas\n",
       "logic `model.packages.loc['package_name']`. Packages that are mutable\n",
       "(`is_mutable` is True) can be converted in a mutable boundary condition\n",
       "with `.as_mutable_bc()`."
      ]
     },
     "execution_count": 26,
     "metadata": {},
     "output_type": "execute_result"
    }
   ],
   "source": [
    "gwf.packages"
   ]
  },
  {
   "cell_type": "markdown",
   "id": "7af19c48-f6a0-412a-af43-2b8e6773777c",
   "metadata": {
    "editable": true,
    "slideshow": {
     "slide_type": ""
    },
    "tags": []
   },
   "source": [
    "The well boundary condition is mutable. \n",
    "But, since no well is defined in the first, steady state, period, \n",
    "it cannot be turned into a mutable boundary condition:"
   ]
  },
  {
   "cell_type": "code",
   "execution_count": 27,
   "id": "208cf010-eda6-434e-86f5-28bcfb5dd9c1",
   "metadata": {
    "editable": true,
    "slideshow": {
     "slide_type": ""
    },
    "tags": [
     "raises-exception"
    ]
   },
   "outputs": [
    {
     "ename": "ValueError",
     "evalue": "No values yet.\nBoundary condition MYWELL does not have any values for current stress periods.\nAdvance to a stress period with values and call this function again.",
     "output_type": "error",
     "traceback": [
      "\u001b[31mValueError\u001b[39m\u001b[31m:\u001b[39m No values yet.\nBoundary condition MYWELL does not have any values for current stress periods.\nAdvance to a stress period with values and call this function again.\n"
     ]
    }
   ],
   "source": [
    "gwf.packages.mywell.as_mutable_bc()"
   ]
  },
  {
   "cell_type": "markdown",
   "id": "dc844152-e0af-44dd-9fb5-6ca97aadb500",
   "metadata": {
    "editable": true,
    "slideshow": {
     "slide_type": ""
    },
    "tags": []
   },
   "source": [
    "We get a hold of the model loop:"
   ]
  },
  {
   "cell_type": "code",
   "execution_count": 28,
   "id": "4fb3a1db-ed66-4bfa-b49e-7ac6c36cd130",
   "metadata": {
    "editable": true,
    "slideshow": {
     "slide_type": ""
    },
    "tags": []
   },
   "outputs": [],
   "source": [
    "loop = mf6.model_loop()"
   ]
  },
  {
   "cell_type": "markdown",
   "id": "3a2211ca-9613-4370-8c75-10ae94b63147",
   "metadata": {
    "editable": true,
    "slideshow": {
     "slide_type": ""
    },
    "tags": []
   },
   "source": [
    "and fast-forward to start of second time stress period:"
   ]
  },
  {
   "cell_type": "code",
   "execution_count": 29,
   "id": "3b78206f-a5c1-4ef4-a474-cd7743a3ecf3",
   "metadata": {
    "editable": true,
    "slideshow": {
     "slide_type": ""
    },
    "tags": []
   },
   "outputs": [],
   "source": [
    "for model in loop:\n",
    "    if gwf.kper > 0:\n",
    "        break"
   ]
  },
  {
   "cell_type": "markdown",
   "id": "a4917121-8485-4ec2-b92c-adab953f8d49",
   "metadata": {
    "editable": true,
    "slideshow": {
     "slide_type": ""
    },
    "tags": []
   },
   "source": [
    "Now, we can create a mutable boundary condition:"
   ]
  },
  {
   "cell_type": "code",
   "execution_count": 30,
   "id": "3d45f4d1-9fa5-4ded-acf9-771a2e573740",
   "metadata": {
    "editable": true,
    "slideshow": {
     "slide_type": ""
    },
    "tags": []
   },
   "outputs": [],
   "source": [
    "mywell = gwf.packages.mywell.as_mutable_bc()"
   ]
  },
  {
   "cell_type": "markdown",
   "id": "d02a7cce-5db4-48d3-a5d2-bfa4ea4922a7",
   "metadata": {
    "editable": true,
    "slideshow": {
     "slide_type": ""
    },
    "tags": []
   },
   "source": [
    "The well is avilable:"
   ]
  },
  {
   "cell_type": "code",
   "execution_count": 31,
   "id": "1ef0a94c-57c1-463e-9009-7e9e32b79184",
   "metadata": {
    "editable": true,
    "slideshow": {
     "slide_type": ""
    },
    "tags": []
   },
   "outputs": [
    {
     "data": {
      "text/html": [
       "<div>\n",
       "<style scoped>\n",
       "    .dataframe tbody tr th:only-of-type {\n",
       "        vertical-align: middle;\n",
       "    }\n",
       "\n",
       "    .dataframe tbody tr th {\n",
       "        vertical-align: top;\n",
       "    }\n",
       "\n",
       "    .dataframe thead th {\n",
       "        text-align: right;\n",
       "    }\n",
       "</style>\n",
       "<table border=\"1\" class=\"dataframe\">\n",
       "  <thead>\n",
       "    <tr style=\"text-align: right;\">\n",
       "      <th></th>\n",
       "      <th>nodelist</th>\n",
       "      <th>q</th>\n",
       "    </tr>\n",
       "  </thead>\n",
       "  <tbody>\n",
       "    <tr>\n",
       "      <th>0</th>\n",
       "      <td>(0, 4, 4)</td>\n",
       "      <td>-0.05</td>\n",
       "    </tr>\n",
       "  </tbody>\n",
       "</table>\n",
       "</div>"
      ],
      "text/plain": [
       "    nodelist     q\n",
       "0  (0, 4, 4) -0.05"
      ]
     },
     "execution_count": 31,
     "metadata": {},
     "output_type": "execute_result"
    }
   ],
   "source": [
    "mywell"
   ]
  },
  {
   "cell_type": "markdown",
   "id": "0e2f1024-947d-4f5b-9e38-1e302abe8baa",
   "metadata": {
    "editable": true,
    "slideshow": {
     "slide_type": ""
    },
    "tags": []
   },
   "source": [
    "We can also acces the value of the pumping:"
   ]
  },
  {
   "cell_type": "code",
   "execution_count": 32,
   "id": "ba51b64e-1aba-4042-9acb-b5fd1c41fdd3",
   "metadata": {
    "editable": true,
    "slideshow": {
     "slide_type": ""
    },
    "tags": []
   },
   "outputs": [
    {
     "data": {
      "text/plain": [
       "np.float64(-0.05)"
      ]
     },
     "execution_count": 32,
     "metadata": {},
     "output_type": "execute_result"
    }
   ],
   "source": [
    "mywell.q[0]"
   ]
  },
  {
   "cell_type": "markdown",
   "id": "50821211-c113-4595-84b8-539c0377ee1b",
   "metadata": {
    "editable": true,
    "slideshow": {
     "slide_type": ""
    },
    "tags": []
   },
   "source": [
    "The well coordinates are also accessible:"
   ]
  },
  {
   "cell_type": "code",
   "execution_count": 33,
   "id": "d7cc8daf-1468-46fe-92ad-5389e819cc17",
   "metadata": {
    "editable": true,
    "slideshow": {
     "slide_type": ""
    },
    "tags": []
   },
   "outputs": [
    {
     "data": {
      "text/plain": [
       "(np.int64(0), np.int64(4), np.int64(4))"
      ]
     },
     "execution_count": 33,
     "metadata": {},
     "output_type": "execute_result"
    }
   ],
   "source": [
    "mywell.nodelist[0]"
   ]
  },
  {
   "cell_type": "markdown",
   "id": "6c9e27ce-fe85-48d1-8b06-022beced1211",
   "metadata": {
    "editable": true,
    "slideshow": {
     "slide_type": ""
    },
    "tags": []
   },
   "source": [
    "Using this coordinate,\n",
    "we can get the current groundwater level in well cell:"
   ]
  },
  {
   "cell_type": "code",
   "execution_count": 34,
   "id": "033ab251-afe5-4a77-944a-7eabc9849ed0",
   "metadata": {
    "editable": true,
    "slideshow": {
     "slide_type": ""
    },
    "tags": []
   },
   "outputs": [
    {
     "data": {
      "text/plain": [
       "np.float64(1.0)"
      ]
     },
     "execution_count": 34,
     "metadata": {},
     "output_type": "execute_result"
    }
   ],
   "source": [
    "gwf.X[mywell.nodelist[0]]"
   ]
  },
  {
   "cell_type": "markdown",
   "id": "1be9ec26-a06c-448f-8bed-b97717a491aa",
   "metadata": {
    "editable": true,
    "slideshow": {
     "slide_type": ""
    },
    "tags": []
   },
   "source": [
    "Let's create a nicer name for the coordinates"
   ]
  },
  {
   "cell_type": "code",
   "execution_count": 35,
   "id": "6e7b2d01-88e6-4aed-bacb-f5dc8a80e859",
   "metadata": {
    "editable": true,
    "slideshow": {
     "slide_type": ""
    },
    "tags": []
   },
   "outputs": [],
   "source": [
    "mywell_coords = mywell.nodelist[0]"
   ]
  },
  {
   "cell_type": "markdown",
   "id": "55304301-8554-4629-bd1c-7b1caead7f3f",
   "metadata": {
    "editable": true,
    "slideshow": {
     "slide_type": ""
    },
    "tags": []
   },
   "source": [
    "We define a helper variable `been_below`,\n",
    "that will be helpful to remember if well water level was below the defined\n",
    "limit."
   ]
  },
  {
   "cell_type": "code",
   "execution_count": 36,
   "id": "4b3819bc-3406-42e3-aab6-92944da43be3",
   "metadata": {
    "editable": true,
    "slideshow": {
     "slide_type": ""
    },
    "tags": []
   },
   "outputs": [],
   "source": [
    "been_below = False"
   ]
  },
  {
   "cell_type": "markdown",
   "id": "581a32ad-e3bd-48b7-976a-43371688debd",
   "metadata": {
    "editable": true,
    "slideshow": {
     "slide_type": ""
    },
    "tags": []
   },
   "source": [
    "We use dictionary to store the modified pumping rates over time:"
   ]
  },
  {
   "cell_type": "code",
   "execution_count": 37,
   "id": "67c2cd41-6ed7-44a4-a8f6-44b93ee9733c",
   "metadata": {
    "editable": true,
    "slideshow": {
     "slide_type": ""
    },
    "tags": []
   },
   "outputs": [],
   "source": [
    "mywell_q = {'step': [], 'q': []}"
   ]
  },
  {
   "attachments": {},
   "cell_type": "markdown",
   "id": "ced2dcec-ebf5-4011-8936-7cb6e03d19e8",
   "metadata": {
    "editable": true,
    "slideshow": {
     "slide_type": ""
    },
    "tags": []
   },
   "source": [
    "Now we loop the timesteps.\n",
    "We influence the pumping only in the third stress period,\n",
    "i.e. when `gwf.kper` is 2:"
   ]
  },
  {
   "cell_type": "code",
   "execution_count": 38,
   "id": "821abbdf-2689-463b-912c-90420def95e5",
   "metadata": {
    "editable": true,
    "slideshow": {
     "slide_type": ""
    },
    "tags": []
   },
   "outputs": [],
   "source": [
    "for model in loop:\n",
    "    if gwf.kper == 2:\n",
    "        mywell_head = gwf.X[mywell_coords]\n",
    "        if mywell_head <= lower_limit:\n",
    "            been_below = True\n",
    "            mywell.q *= 0.9\n",
    "        elif been_below and mywell_head >= upper_limit:\n",
    "            mywell.q *= 1.1\n",
    "        mywell_q['step'].append(gwf.kstp)\n",
    "        mywell_q['q'].append(mywell.q[0])"
   ]
  },
  {
   "cell_type": "markdown",
   "id": "3fcde110-929e-409e-b46e-2672d847ba32",
   "metadata": {},
   "source": [
    "If the groundwater level in the well cell is below the given limit \n",
    "(minus the tolerance),\n",
    "we set `been_below` to `True` and reduce the pumping rate by 10%.\n",
    "If the cell water level was below the level before,\n",
    "i.e. if `been_below` is `True`,\n",
    "and the water level is above the given limit (plus the tolerance),\n",
    "we increase the pumping rate by 10%."
   ]
  },
  {
   "cell_type": "markdown",
   "id": "95580488-43cc-40bf-a919-62085910142c",
   "metadata": {
    "editable": true,
    "slideshow": {
     "slide_type": ""
    },
    "tags": []
   },
   "source": [
    "### Looking at the results"
   ]
  },
  {
   "cell_type": "markdown",
   "id": "6e0ae466-2605-4016-996d-4a1d184d58f4",
   "metadata": {
    "editable": true,
    "slideshow": {
     "slide_type": ""
    },
    "tags": []
   },
   "source": [
    "Now the water level stays just around 0.5 m:"
   ]
  },
  {
   "cell_type": "code",
   "execution_count": 39,
   "id": "167130f2-619f-460e-bc14-c992c5933ae9",
   "metadata": {
    "editable": true,
    "slideshow": {
     "slide_type": ""
    },
    "tags": []
   },
   "outputs": [
    {
     "data": {
      "image/png": "[encoded data removed]",
      "text/plain": [
       "<Figure size 640x480 with 1 Axes>"
      ]
     },
     "metadata": {},
     "output_type": "display_data"
    }
   ],
   "source": [
    "show_my_well_head(model_data=pymf6_model_data);"
   ]
  },
  {
   "cell_type": "markdown",
   "id": "015650ed-2e6c-4b30-b46a-5c836f0b63f8",
   "metadata": {},
   "source": [
    "The water level oscillates tightly in the corridor between lower and upper limit. \n",
    "The pumping is modified frequently:"
   ]
  },
  {
   "cell_type": "code",
   "execution_count": 40,
   "id": "a63c807e-174c-4d33-8724-f89579ee955e",
   "metadata": {
    "editable": true,
    "slideshow": {
     "slide_type": ""
    },
    "tags": []
   },
   "outputs": [
    {
     "data": {
      "image/png": "[encoded data removed]",
      "text/plain": [
       "<Figure size 640x480 with 1 Axes>"
      ]
     },
     "metadata": {},
     "output_type": "display_data"
    }
   ],
   "source": [
    "import pandas as pd\n",
    "\n",
    "pd.DataFrame(mywell_q).plot(x='step');"
   ]
  },
  {
   "attachments": {},
   "cell_type": "markdown",
   "id": "fbdee5ca-a24b-49e8-9572-b3fb89c8648d",
   "metadata": {
    "editable": true,
    "slideshow": {
     "slide_type": ""
    },
    "tags": []
   },
   "source": [
    "### Further steps\n",
    "\n",
    "The control of the pumping rate is not very realistic.\n",
    "These a few things that can be done with a few lines of Python:\n",
    "\n",
    "* Make tolerance corridor wider\n",
    "* Use discrete pumping rate level instead of 10% changes"
   ]
  }
 ],
 "metadata": {
  "kernelspec": {
   "display_name": "Python 3 (ipykernel)",
   "language": "python",
   "name": "python3"
  },
  "language_info": {
   "codemirror_mode": {
    "name": "ipython",
    "version": 3
   },
   "file_extension": ".py",
   "mimetype": "text/x-python",
   "name": "python",
   "nbconvert_exporter": "python",
   "pygments_lexer": "ipython3",
   "version": "3.13.2"
  },
  "vscode": {
   "interpreter": {
    "hash": "98d2fa627a14f8f09ccf7e6943f8547aaaa390d478c2202bcbffb30f4e2ff92a"
   }
  }
 },
 "nbformat": 4,
 "nbformat_minor": 5
}
