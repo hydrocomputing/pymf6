{
 "cells": [
  {
   "cell_type": "code",
   "execution_count": 1,
   "id": "24c87f06-8222-4ff4-ad7c-c8e93259a7f3",
   "metadata": {
    "tags": [
     "remove-cell"
    ]
   },
   "outputs": [
    {
     "name": "stdout",
     "output_type": "stream",
     "text": [
      "Exception reporting mode: Minimal\n"
     ]
    }
   ],
   "source": [
    "%load_ext jbmagics"
   ]
  },
  {
   "cell_type": "markdown",
   "id": "6e619510-18bc-407e-a5ea-227cddc0b4aa",
   "metadata": {},
   "source": [
    "# Head Controlled Well\n",
    "\n",
    "This example demonstrates how `pymf6` can be used to control the rate of an\n",
    "extraction well so that the well water level does fall below under a given water\n",
    "level."
   ]
  },
  {
   "cell_type": "markdown",
   "id": "b29f3fac-76bd-4242-a2d6-96588cbc625a",
   "metadata": {},
   "source": [
    "## Setting up a model with `flopy`\n",
    "\n",
    "First, we create a simple model with `flopy`.\n",
    "You may use any GUI tool such as ModelMuse to create such a model.\n",
    "This is not specific to `pymf6` but helps to better understand the problem.\n",
    "You may skip ahead to the section with use of `pymf6`.\n",
    "\n",
    "### Creating the input data\n",
    "\n",
    "First, we import a few need libraries:"
   ]
  },
  {
   "cell_type": "code",
   "execution_count": 2,
   "id": "758f26a5-c0ae-484e-a2d9-c2f4bc5c0fda",
   "metadata": {
    "tags": [
     "remove-input"
    ]
   },
   "outputs": [
    {
     "data": {
      "text/markdown": [
       "```python\n",
       "\"\"\"Create, run, and postprocess a MODFLOW 6 model with flopy.\n",
       "\"\"\"\n",
       "\n",
       "import flopy\n",
       "from flopy.utils.postprocessing import get_specific_discharge\n",
       "from matplotlib import pyplot as plt\n",
       "import numpy as np\n",
       "```\n"
      ],
      "text/plain": [
       "<IPython.core.display.Markdown object>"
      ]
     },
     "metadata": {},
     "output_type": "display_data"
    }
   ],
   "source": [
    "%%include make_model.py\n",
    "end_at = 'import numpy'\n",
    "import_module = True"
   ]
  },
  {
   "cell_type": "markdown",
   "id": "d36f10db-1db7-42ac-8a63-f34b759825a5",
   "metadata": {},
   "source": [
    "The function `make_input` creates our model with help pf `flopy`:"
   ]
  },
  {
   "cell_type": "code",
   "execution_count": 3,
   "id": "ba22b0f1-6d9e-448c-92b9-ea8e6bc02285",
   "metadata": {
    "tags": [
     "remove-input"
    ]
   },
   "outputs": [
    {
     "data": {
      "text/markdown": [
       "```python\n",
       "def _make_wel_stress_period(gwf, wel_q, wel_coords):\n",
       "    \"\"\"Create stress period data for the wel package.\"\"\"\n",
       "    period = flopy.mf6.ModflowGwfwel.stress_period_data.empty(\n",
       "        gwf,\n",
       "        maxbound=1,\n",
       "    )\n",
       "    period[0][0] = (wel_coords, wel_q)\n",
       "    return period\n",
       "\n",
       "\n",
       "def make_input(\n",
       "    wel_q,\n",
       "    wel_coords,\n",
       "    model_path,\n",
       "    name,\n",
       "    exe_name='mf6',\n",
       "    verbosity_level=0):\n",
       "    \"\"\"Create MODFLOW 6 input\"\"\"\n",
       "    sim = flopy.mf6.MFSimulation(\n",
       "        sim_name=name,\n",
       "        sim_ws=model_path,\n",
       "        exe_name=exe_name,\n",
       "        verbosity_level=verbosity_level,\n",
       "    )\n",
       "    times = (10.0, 120, 1.0)\n",
       "    tdis_rc = [(1.0, 1, 1.0), times, times, times]\n",
       "    flopy.mf6.ModflowTdis(\n",
       "        sim, pname=\"tdis\",\n",
       "        time_units=\"DAYS\",\n",
       "        nper=4,\n",
       "        perioddata=tdis_rc,\n",
       "    )\n",
       "    flopy.mf6.ModflowIms(sim)\n",
       "    gwf = flopy.mf6.ModflowGwf(sim, modelname=name, save_flows=True)\n",
       "    flopy.mf6.ModflowGwfdis(gwf, nrow=10, ncol=10)\n",
       "    flopy.mf6.ModflowGwfic(gwf)\n",
       "    flopy.mf6.ModflowGwfnpf(\n",
       "        gwf,\n",
       "        save_flows=True,\n",
       "        save_specific_discharge=True,\n",
       "        icelltype=[0],\n",
       "        k=[0.5],\n",
       "        k33=[0.1],\n",
       "    )\n",
       "    sy = flopy.mf6.ModflowGwfsto.sy.empty(\n",
       "        gwf,\n",
       "        default_value=0.2\n",
       "    )\n",
       "    ss = flopy.mf6.ModflowGwfsto.ss.empty(\n",
       "        gwf, default_value=0.000001\n",
       "    )\n",
       "    flopy.mf6.ModflowGwfsto(\n",
       "        gwf,\n",
       "        pname=\"sto\",\n",
       "        save_flows=True,\n",
       "        save_specific_discharge=True,\n",
       "        iconvert=1,\n",
       "        ss=ss,\n",
       "        sy=sy,\n",
       "        transient={0: True},\n",
       "        )\n",
       "\n",
       "    stress_period_data = {\n",
       "        1: _make_wel_stress_period(gwf, wel_q / 10, wel_coords)[0],\n",
       "        2: _make_wel_stress_period(gwf, wel_q, wel_coords)[0],\n",
       "        3: _make_wel_stress_period(gwf, wel_q / 10, wel_coords)[0]\n",
       "    }\n",
       "    flopy.mf6.ModflowGwfwel(\n",
       "        gwf,\n",
       "        stress_period_data=stress_period_data,\n",
       "    )\n",
       "    flopy.mf6.ModflowGwfchd(\n",
       "        gwf,\n",
       "        stress_period_data=[\n",
       "            [(0, 0, 0), 1.],\n",
       "            [(0, 9, 9), 1.]],\n",
       "    )\n",
       "    budget_file = name + '.bud'\n",
       "    head_file = name + '.hds'\n",
       "    flopy.mf6.ModflowGwfoc(\n",
       "        gwf,\n",
       "        budget_filerecord=budget_file,\n",
       "        head_filerecord=head_file,\n",
       "        saverecord=[('HEAD', 'ALL'), ('BUDGET', 'ALL')])\n",
       "    sim.write_simulation()\n",
       "```\n"
      ],
      "text/plain": [
       "<IPython.core.display.Markdown object>"
      ]
     },
     "metadata": {},
     "output_type": "display_data"
    }
   ],
   "source": [
    "%%include make_model.py\n",
    "start_at = 'def _make_wel_stress_period'\n",
    "end_at = 'sim.write_simulation()'\n",
    "import_module = True"
   ]
  },
  {
   "cell_type": "markdown",
   "id": "4b81de4e-1305-44c1-84b7-5c79064dc564",
   "metadata": {},
   "source": [
    "We specify some data for the model:"
   ]
  },
  {
   "cell_type": "code",
   "execution_count": 4,
   "id": "6872ac8b-6ebd-4bc4-b593-33dc57cfebd6",
   "metadata": {},
   "outputs": [],
   "source": [
    "model_path=r'models\\mf6'\n",
    "name='headconwell'\n",
    "wel_coords=(0, 4, 4)\n",
    "wel_q = -0.5"
   ]
  },
  {
   "cell_type": "markdown",
   "id": "4276b017-42ed-4b5c-b5ff-5d761aac42f9",
   "metadata": {},
   "source": [
    "and create the input files."
   ]
  },
  {
   "cell_type": "code",
   "execution_count": 5,
   "id": "09ad303d-cec3-4230-96bb-c5d502e06c92",
   "metadata": {},
   "outputs": [],
   "source": [
    "make_input(\n",
    "    wel_q=wel_q,\n",
    "    wel_coords=wel_coords,\n",
    "    model_path=model_path,\n",
    "    name=name\n",
    ")"
   ]
  },
  {
   "cell_type": "markdown",
   "id": "9b356fd7-1fd3-45bd-a095-e669f7363992",
   "metadata": {},
   "source": [
    "### Running the model\n",
    "\n",
    "The function `get_simulation` retrieves a `flopy` simulation object:"
   ]
  },
  {
   "cell_type": "code",
   "execution_count": 6,
   "id": "eeff0f50-8067-4be0-be44-437e1ef0c173",
   "metadata": {
    "tags": [
     "remove-input"
    ]
   },
   "outputs": [
    {
     "data": {
      "text/markdown": [
       "```python\n",
       "def get_simulation(model_path, exe_name='mf6', verbosity_level=0):\n",
       "    \"\"\"Get simulation for a model.\"\"\"\n",
       "    sim = flopy.mf6.MFSimulation.load(\n",
       "        sim_ws=model_path,\n",
       "        exe_name=exe_name,\n",
       "        verbosity_level=verbosity_level,\n",
       "    )\n",
       "    return sim\n",
       "```\n"
      ],
      "text/plain": [
       "<IPython.core.display.Markdown object>"
      ]
     },
     "metadata": {},
     "output_type": "display_data"
    }
   ],
   "source": [
    "%%include make_model.py\n",
    "start_at = 'def get_simulation'\n",
    "end_at = 'return'\n",
    "import_module = True"
   ]
  },
  {
   "cell_type": "markdown",
   "id": "3963453e-e8de-4673-9787-0f5ac3048814",
   "metadata": {},
   "source": [
    "This function runs the model:"
   ]
  },
  {
   "cell_type": "code",
   "execution_count": 7,
   "id": "fc2741eb-7925-4b81-8f4c-28652e126d7c",
   "metadata": {
    "tags": [
     "remove-input"
    ]
   },
   "outputs": [
    {
     "data": {
      "text/markdown": [
       "```python\n",
       "def run_simulation(model_path, verbosity_level=0):\n",
       "    \"\"\"Run a MODFLOW 6 model\"\"\"\n",
       "    sim = get_simulation(\n",
       "        model_path,\n",
       "        verbosity_level=verbosity_level)\n",
       "    sim.run_simulation()\n",
       "```\n"
      ],
      "text/plain": [
       "<IPython.core.display.Markdown object>"
      ]
     },
     "metadata": {},
     "output_type": "display_data"
    }
   ],
   "source": [
    "%%include make_model.py\n",
    "start_at = 'def run_simulation'\n",
    "end_at = 'sim.run_simulation()'\n",
    "import_module = True"
   ]
  },
  {
   "cell_type": "markdown",
   "id": "c0391751-0c29-49bf-9c10-e7686f55f886",
   "metadata": {},
   "source": [
    "We run the simulation:"
   ]
  },
  {
   "cell_type": "code",
   "execution_count": 8,
   "id": "e6e6aa07-019a-4f53-a8eb-e4f861eef6cb",
   "metadata": {},
   "outputs": [],
   "source": [
    "run_simulation(model_path=model_path)"
   ]
  },
  {
   "cell_type": "markdown",
   "id": "ba8555ae-c57a-47f2-aab1-58aa249a0df9",
   "metadata": {},
   "source": [
    "There is visible output from MODFLOW 6.\n",
    "Setting the `verbosity_level` to `1` or higher in `run_simulation` will show\n",
    "the simulations steps."
   ]
  },
  {
   "cell_type": "markdown",
   "id": "cd19fa5d-5097-4b09-8f98-7cfb0f172f07",
   "metadata": {},
   "source": [
    "### Looking at the model results\n",
    "\n",
    "Let's look at the model results.\n",
    "This function visualizes the head at the end of the last time step: "
   ]
  },
  {
   "cell_type": "code",
   "execution_count": 9,
   "id": "4a4c13b2-3e7f-4396-8a43-8b5eb663424d",
   "metadata": {
    "tags": [
     "remove-input"
    ]
   },
   "outputs": [
    {
     "data": {
      "text/markdown": [
       "```python\n",
       "def show_heads(model_path, name):\n",
       "    \"\"\"Plot calculated heads along with flow vector.\"\"\"\n",
       "    sim = get_simulation(model_path, name)\n",
       "    gwf = sim.get_model(name)\n",
       "\n",
       "    head = gwf.output.head().get_data()\n",
       "    bud = gwf.output.budget()\n",
       "\n",
       "    spdis = bud.get_data(text='DATA-SPDIS')[-1]\n",
       "    qx, qy, _ = get_specific_discharge(spdis, gwf)\n",
       "    pmv = flopy.plot.PlotMapView(gwf)\n",
       "    pmv.plot_array(head)\n",
       "    pmv.plot_grid(colors='white')\n",
       "    pmv.contour_array(\n",
       "        head,\n",
       "        levels=np.arange(0.2, 1.0, 0.02),\n",
       "    )\n",
       "    pmv.plot_vector(qx, qy, normalize=True, color=\"white\")\n",
       "```\n"
      ],
      "text/plain": [
       "<IPython.core.display.Markdown object>"
      ]
     },
     "metadata": {},
     "output_type": "display_data"
    }
   ],
   "source": [
    "%%include make_model.py\n",
    "start_at = 'def show_head'\n",
    "end_at = 'pmv.plot_vector'\n",
    "import_module = True"
   ]
  },
  {
   "cell_type": "markdown",
   "id": "5e6c8ef1-d22b-4141-9454-3984a0342e53",
   "metadata": {},
   "source": [
    "We look at the heads:"
   ]
  },
  {
   "cell_type": "code",
   "execution_count": 10,
   "id": "e4117cb5-06be-4239-9428-f6d4adfb07fc",
   "metadata": {},
   "outputs": [
    {
     "data": {
      "image/png": "[encoded data removed]",
      "text/plain": [
       "<Figure size 432x288 with 1 Axes>"
      ]
     },
     "metadata": {
      "needs_background": "light"
     },
     "output_type": "display_data"
    }
   ],
   "source": [
    "show_heads(model_path=model_path, name=name)"
   ]
  },
  {
   "cell_type": "markdown",
   "id": "fe8d0305-1d97-4475-ac9b-6c9e98077e68",
   "metadata": {},
   "source": [
    "The well is roughly in the middle of the model.\n",
    "The yellow cells have a constant water level and \"feed\" the model.\n",
    "The well causes a cone of depression."
   ]
  },
  {
   "cell_type": "markdown",
   "id": "8588027f-8d91-4849-892a-68925fb89259",
   "metadata": {},
   "source": [
    "This function shows the head the well location over time:"
   ]
  },
  {
   "cell_type": "code",
   "execution_count": 11,
   "id": "668fe6e6-fcd5-4e20-ab18-4de21c20dad9",
   "metadata": {
    "tags": [
     "remove-input"
    ]
   },
   "outputs": [
    {
     "data": {
      "text/markdown": [
       "```python\n",
       "def show_well_head(model_path, name, wel_coords):\n",
       "    \"\"\"Plot head at well over time.\"\"\"\n",
       "    sim = get_simulation(model_path, name)\n",
       "    gwf = sim.get_model(name)\n",
       "    heads = gwf.output.head().get_ts(wel_coords)\n",
       "    _, ax = plt.subplots()\n",
       "    ax.plot(heads[:, 0], heads[:, 1])\n",
       "```\n"
      ],
      "text/plain": [
       "<IPython.core.display.Markdown object>"
      ]
     },
     "metadata": {},
     "output_type": "display_data"
    }
   ],
   "source": [
    "%%include make_model.py\n",
    "start_at = 'def show_well_head'\n",
    "end_at = 'ax.plot'\n",
    "import_module = True"
   ]
  },
  {
   "cell_type": "markdown",
   "id": "f606676f-d460-46ac-baa9-185bb0c46f16",
   "metadata": {},
   "source": [
    "This is the head at the well over time:"
   ]
  },
  {
   "cell_type": "code",
   "execution_count": 12,
   "id": "7b3b60f6-10b0-4e10-b1fc-dd8c57d6873d",
   "metadata": {},
   "outputs": [
    {
     "data": {
      "image/png": "[encoded data removed]",
      "text/plain": [
       "<Figure size 432x288 with 1 Axes>"
      ]
     },
     "metadata": {
      "needs_background": "light"
     },
     "output_type": "display_data"
    }
   ],
   "source": [
    "show_well_head(model_path=model_path, name=name, wel_coords=wel_coords)"
   ]
  },
  {
   "cell_type": "markdown",
   "id": "d571fc75-8053-4bbd-98b1-297f63c9bc96",
   "metadata": {},
   "source": [
    "There are four stress periods.\n",
    "The first period is steady state.\n",
    "Periods two to four a transient with different extraction rate.\n",
    "Period three has the full rate and periods two and four have only a tenth of the\n",
    "rate. See generation of the input files for details."
   ]
  },
  {
   "cell_type": "markdown",
   "id": "cdb69577-5713-4c44-af88-f1abbf29d8e4",
   "metadata": {},
   "source": [
    "## Working with `pymf6`\n",
    "\n",
    "Finally, we will use `pymf6`.\n",
    "The objective is the avoid a drop of the water level at the well below a given \n",
    "limit."
   ]
  },
  {
   "cell_type": "markdown",
   "id": "18003894-6b06-4e43-8239-4bbda08f5dc1",
   "metadata": {},
   "source": [
    "### Creating new input files\n",
    "\n",
    "We generate the input files again.\n",
    "There are no differences in the files to the model above.\n",
    "The only difference is the model directory:"
   ]
  },
  {
   "cell_type": "code",
   "execution_count": 13,
   "id": "6df65903-126c-47e8-80cc-22b191a09ba6",
   "metadata": {},
   "outputs": [],
   "source": [
    "model_path=r'models\\pymf6'"
   ]
  },
  {
   "cell_type": "markdown",
   "id": "7748d444-caba-45a8-a583-c26be632ba67",
   "metadata": {},
   "source": [
    "Creating the input files:"
   ]
  },
  {
   "cell_type": "code",
   "execution_count": 14,
   "id": "96c2ccda-369e-4e07-b944-e02bdddb536e",
   "metadata": {},
   "outputs": [],
   "source": [
    "make_input(\n",
    "    wel_q=wel_q,\n",
    "    wel_coords=wel_coords,\n",
    "    model_path=model_path,\n",
    "    name=name\n",
    ")"
   ]
  },
  {
   "cell_type": "markdown",
   "id": "a518fc88-a3b3-4edd-bc70-08ce9af05a67",
   "metadata": {},
   "source": [
    "### Run the model with `pymf6`\n",
    "\n",
    "Now run the model with `pymf6`:"
   ]
  },
  {
   "cell_type": "code",
   "execution_count": 15,
   "id": "6128591d-110f-44bd-b8c5-110dd1e7899b",
   "metadata": {
    "tags": [
     "remove-input"
    ]
   },
   "outputs": [
    {
     "data": {
      "text/markdown": [
       "```python\n",
       "from pymf6.mf6 import MF6\n",
       "\n",
       "def run_model(nam_file):\n",
       "    mf6 = MF6(nam_file=nam_file)\n",
       "    head = mf6.vars['SLN_1/X']\n",
       "    wel_index = 44\n",
       "    tolerance = 0.01\n",
       "    head_limit = 0.5\n",
       "    upper_limit = head_limit + tolerance\n",
       "    lower_limit = head_limit - tolerance\n",
       "    wel = mf6.vars['HEADCONWELL/WEL_0/BOUND']\n",
       "    been_below = False\n",
       "    for step in mf6.steps():\n",
       "        if step < 21:\n",
       "            if head[wel_index] <= upper_limit:\n",
       "                wel[:] = wel[:] * 0.9\n",
       "                been_below = True\n",
       "            elif been_below and head[wel_index] >= upper_limit:\n",
       "                wel[:] = wel[:] * 1.1\n",
       "```\n"
      ],
      "text/plain": [
       "<IPython.core.display.Markdown object>"
      ]
     },
     "metadata": {},
     "output_type": "display_data"
    }
   ],
   "source": [
    "%%include pymf6_head_controlled_well.py\n",
    "end_before = 'if __name__ =='\n",
    "import_module = True"
   ]
  },
  {
   "cell_type": "markdown",
   "id": "cd46d845-8ee1-4bd9-a4f2-c763d8bdd754",
   "metadata": {},
   "source": [
    "The class `MF6` provides the functionality of `pymf6`.\n",
    "The dictionary `mf6.vars` provides all MODFLOW 6 variables.\n",
    "The head has the name `SLN_1/X` and the values of the boundary condition `WEL`\n",
    "is `HEADCONWELL/WEL_0/BOUND`.\n",
    "The name will change depending on model name and the chosen name for the\n",
    "boundary condition.\n",
    "\n",
    "`mf6.steps()` provides a generator that allows to iterate over all MODFLOW 6 \n",
    "time steps.\n",
    "`step` is the current time step in the unit specified in the input files, here\n",
    "`DAYS`.\n",
    "We don't want influence the last, which starts at day 21.\n",
    "We adjust the extraction rate by reducing o increasing the rate by 10%,\n",
    "if the water level at the well, found at index 44, is not within the upper\n",
    "and lower limit."
   ]
  },
  {
   "cell_type": "markdown",
   "id": "aa034ee6-c813-4243-9341-f5f8f60e09e7",
   "metadata": {},
   "source": [
    "Running the model:"
   ]
  },
  {
   "cell_type": "code",
   "execution_count": 16,
   "id": "99658a58-9276-478d-a5f5-ae2abed7b6ee",
   "metadata": {
    "tags": []
   },
   "outputs": [],
   "source": [
    "run_model(r'models/pymf6/mfsim.nam')"
   ]
  },
  {
   "cell_type": "markdown",
   "id": "9c11cadb-f236-4e2d-885b-ce1f14358156",
   "metadata": {},
   "source": [
    "### Looking at the results"
   ]
  },
  {
   "cell_type": "markdown",
   "id": "d7b7ad46-d58a-41dd-9dc2-8000936524cb",
   "metadata": {},
   "source": [
    "Now the water level stays just around 0.5:"
   ]
  },
  {
   "cell_type": "code",
   "execution_count": 17,
   "id": "e44a531e-1d7b-430e-a9b2-3bd96aae50b9",
   "metadata": {
    "tags": []
   },
   "outputs": [
    {
     "data": {
      "image/png": "[encoded data removed]",
      "text/plain": [
       "<Figure size 432x288 with 1 Axes>"
      ]
     },
     "metadata": {
      "needs_background": "light"
     },
     "output_type": "display_data"
    }
   ],
   "source": [
    "show_well_head(model_path=model_path, name=name, wel_coords=wel_coords)"
   ]
  },
  {
   "cell_type": "markdown",
   "id": "fcc708c6-c749-4c9d-be80-3d9352aee812",
   "metadata": {},
   "source": [
    "There is some oscillation in the water level.\n",
    "These can be reduced by adding more time steps in the TDIS package."
   ]
  }
 ],
 "metadata": {
  "kernelspec": {
   "display_name": "Python 3 (ipykernel)",
   "language": "python",
   "name": "python3"
  },
  "language_info": {
   "codemirror_mode": {
    "name": "ipython",
    "version": 3
   },
   "file_extension": ".py",
   "mimetype": "text/x-python",
   "name": "python",
   "nbconvert_exporter": "python",
   "pygments_lexer": "ipython3",
   "version": "3.10.5"
  }
 },
 "nbformat": 4,
 "nbformat_minor": 5
}
