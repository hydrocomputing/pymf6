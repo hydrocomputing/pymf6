{
 "cells": [
  {
   "cell_type": "code",
   "execution_count": null,
   "id": "662472bd-4cad-4ae9-aa48-32313304624e",
   "metadata": {},
   "outputs": [],
   "source": []
  },
  {
   "cell_type": "code",
   "execution_count": 3,
   "id": "457ecac2-f8d2-4a61-be11-54807118f6a7",
   "metadata": {
    "tags": []
   },
   "outputs": [],
   "source": [
    "model_path=r'models\\pymf6'"
   ]
  },
  {
   "cell_type": "code",
   "execution_count": 6,
   "id": "5fb43680-5835-432c-912d-58aeb12fd566",
   "metadata": {
    "tags": []
   },
   "outputs": [],
   "source": [
    "from make_model import make_input\n",
    "from make_model import run_simulation\n",
    "from make_model import show_heads\n",
    "from make_model import show_well_head"
   ]
  },
  {
   "cell_type": "code",
   "execution_count": 9,
   "id": "94dfaa0f-9893-47a8-a943-bd54121085a7",
   "metadata": {
    "tags": []
   },
   "outputs": [
    {
     "ename": "NameError",
     "evalue": "name 'wel_qin' is not defined",
     "output_type": "error",
     "traceback": [
      "\u001b[1;31m---------------------------------------------------------------------------\u001b[0m",
      "\u001b[1;31mNameError\u001b[0m                                 Traceback (most recent call last)",
      "Cell \u001b[1;32mIn[9], line 2\u001b[0m\n\u001b[0;32m      1\u001b[0m make_input(\n\u001b[1;32m----> 2\u001b[0m         wel_qin\u001b[38;5;241m=\u001b[39m\u001b[43mwel_qin\u001b[49m,\n\u001b[0;32m      3\u001b[0m         wel_qin_1\u001b[38;5;241m=\u001b[39mwel_qin_1,\n\u001b[0;32m      4\u001b[0m         wel_qout\u001b[38;5;241m=\u001b[39mwel_qout,\n\u001b[0;32m      5\u001b[0m         wel_qout_1\u001b[38;5;241m=\u001b[39mwel_qout_1,\n\u001b[0;32m      6\u001b[0m         wel_coordsin\u001b[38;5;241m=\u001b[39mwel_coordsin,\n\u001b[0;32m      7\u001b[0m         wel_coordsin_1\u001b[38;5;241m=\u001b[39mwel_coordsin_1,\n\u001b[0;32m      8\u001b[0m         wel_coordsout\u001b[38;5;241m=\u001b[39mwel_coordsout,\n\u001b[0;32m      9\u001b[0m         wel_coordsout_1\u001b[38;5;241m=\u001b[39mwel_coordsout_1,\n\u001b[0;32m     10\u001b[0m         model_path\u001b[38;5;241m=\u001b[39mmodel_path,\n\u001b[0;32m     11\u001b[0m         name\u001b[38;5;241m=\u001b[39mname,\n\u001b[0;32m     12\u001b[0m         )\n",
      "\u001b[1;31mNameError\u001b[0m: name 'wel_qin' is not defined"
     ]
    }
   ],
   "source": [
    "make_input(\n",
    "        wel_qin=wel_qin,\n",
    "        wel_qin_1=wel_qin_1,\n",
    "        wel_qout=wel_qout,\n",
    "        wel_qout_1=wel_qout_1,\n",
    "        wel_coordsin=wel_coordsin,\n",
    "        wel_coordsin_1=wel_coordsin_1,\n",
    "        wel_coordsout=wel_coordsout,\n",
    "        wel_coordsout_1=wel_coordsout_1,\n",
    "        model_path=model_path,\n",
    "        name=name,\n",
    "        )"
   ]
  },
  {
   "cell_type": "code",
   "execution_count": null,
   "id": "c7a6bf4a-da37-4a7e-87d5-aae33a22b090",
   "metadata": {},
   "outputs": [],
   "source": []
  }
 ],
 "metadata": {
  "kernelspec": {
   "display_name": "Python 3 (ipykernel)",
   "language": "python",
   "name": "python3"
  },
  "language_info": {
   "codemirror_mode": {
    "name": "ipython",
    "version": 3
   },
   "file_extension": ".py",
   "mimetype": "text/x-python",
   "name": "python",
   "nbconvert_exporter": "python",
   "pygments_lexer": "ipython3",
   "version": "3.10.9"
  }
 },
 "nbformat": 4,
 "nbformat_minor": 5
}
