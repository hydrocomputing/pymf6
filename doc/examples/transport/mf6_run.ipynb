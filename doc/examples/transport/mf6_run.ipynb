{
 "cells": [
  {
   "cell_type": "code",
   "execution_count": 30,
   "id": "03dfc3da-eb65-4a0e-a551-33f88cc2d362",
   "metadata": {
    "tags": []
   },
   "outputs": [],
   "source": [
    "%reload_ext autoreload"
   ]
  },
  {
   "cell_type": "code",
   "execution_count": 31,
   "id": "96bfad4b-8b00-487a-b4ce-2d8909b2c8e0",
   "metadata": {
    "tags": []
   },
   "outputs": [],
   "source": [
    "%autoreload 2"
   ]
  },
  {
   "cell_type": "code",
   "execution_count": 32,
   "id": "323aef33-89bb-47a8-9757-fe73f8bef636",
   "metadata": {
    "tags": []
   },
   "outputs": [],
   "source": [
    "model_path=r'models\\mf6'\n",
    "name='transport'\n",
    "wel_coords=(0, 4, 4)\n",
    "wel_q = -0.5\n",
    "wel_c = 10 \n",
    "mixelm = -1"
   ]
  },
  {
   "cell_type": "code",
   "execution_count": 33,
   "id": "bb99a27d-8e56-422d-be6e-3de23502ceb1",
   "metadata": {
    "tags": []
   },
   "outputs": [],
   "source": [
    "from make_model import make_input\n",
    "from make_model import run_simulation\n",
    "from make_model import show_heads\n",
    "from make_model import show_well_head\n",
    "from make_model import show_concentration"
   ]
  },
  {
   "cell_type": "code",
   "execution_count": 34,
   "id": "1b4719d4-a7b6-42fb-9ac7-1b210574ae25",
   "metadata": {
    "tags": []
   },
   "outputs": [
    {
     "name": "stdout",
     "output_type": "stream",
     "text": [
      "writing simulation...\n",
      "  writing simulation name file...\n",
      "  writing simulation tdis package...\n",
      "  writing ims package ims_-1...\n",
      "  writing ims package ims_0...\n",
      "  writing package transport.gwfgwt...\n",
      "  writing model gwf_transport...\n",
      "    writing model name file...\n",
      "    writing package dis...\n",
      "    writing package npf...\n",
      "    writing package sto...\n",
      "    writing package ic...\n",
      "    writing package chd_0...\n",
      "INFORMATION: maxbound in ('gwf6', 'chd', 'dimensions') changed to 2 based on size of stress_period_data\n",
      "    writing package wel-1...\n",
      "INFORMATION: maxbound in ('gwf6', 'wel', 'dimensions') changed to 1 based on size of stress_period_data\n",
      "    writing package oc...\n",
      "  writing model gwt_transport...\n",
      "    writing model name file...\n",
      "    writing package dis...\n",
      "    writing package ic...\n",
      "    writing package adv...\n",
      "    writing package dsp...\n",
      "    writing package mst...\n",
      "    writing package ssm...\n",
      "    writing package oc...\n",
      "    writing package obs_0...\n"
     ]
    }
   ],
   "source": [
    "make_input(\n",
    "    wel_q=wel_q,\n",
    "    wel_coords=wel_coords,\n",
    "    wel_c=wel_c,\n",
    "    model_path=model_path,\n",
    "    name=name, \n",
    "    mixelm=mixelm)"
   ]
  },
  {
   "cell_type": "code",
   "execution_count": 35,
   "id": "a25f23b0-13d3-4c0f-85af-4e0a757ead02",
   "metadata": {
    "tags": []
   },
   "outputs": [],
   "source": [
    "run_simulation(model_path=model_path)"
   ]
  },
  {
   "cell_type": "code",
   "execution_count": 36,
   "id": "d54d7558-0728-4ecc-bdba-031b5552410c",
   "metadata": {
    "tags": []
   },
   "outputs": [
    {
     "ename": "AttributeError",
     "evalue": "'NoneType' object has no attribute 'output'",
     "output_type": "error",
     "traceback": [
      "\u001b[1;31m---------------------------------------------------------------------------\u001b[0m",
      "\u001b[1;31mAttributeError\u001b[0m                            Traceback (most recent call last)",
      "Cell \u001b[1;32mIn[36], line 1\u001b[0m\n\u001b[1;32m----> 1\u001b[0m \u001b[43mshow_well_head\u001b[49m\u001b[43m(\u001b[49m\u001b[43mmodel_path\u001b[49m\u001b[38;5;241;43m=\u001b[39;49m\u001b[43mmodel_path\u001b[49m\u001b[43m,\u001b[49m\u001b[43m \u001b[49m\u001b[43mname\u001b[49m\u001b[38;5;241;43m=\u001b[39;49m\u001b[43mname\u001b[49m\u001b[43m,\u001b[49m\u001b[43m \u001b[49m\u001b[43mwel_coords\u001b[49m\u001b[38;5;241;43m=\u001b[39;49m\u001b[43mwel_coords\u001b[49m\u001b[43m)\u001b[49m\n",
      "File \u001b[1;32mC:\\TUBAF\\MODSIMPLE2\\pymf6\\doc\\examples\\transport\\make_model.py:411\u001b[0m, in \u001b[0;36mshow_well_head\u001b[1;34m(model_path, name, wel_coords)\u001b[0m\n\u001b[0;32m    409\u001b[0m sim \u001b[38;5;241m=\u001b[39m get_simulation(model_path, name)\n\u001b[0;32m    410\u001b[0m gwf \u001b[38;5;241m=\u001b[39m sim\u001b[38;5;241m.\u001b[39mget_model(name)\n\u001b[1;32m--> 411\u001b[0m heads \u001b[38;5;241m=\u001b[39m \u001b[43mgwf\u001b[49m\u001b[38;5;241;43m.\u001b[39;49m\u001b[43moutput\u001b[49m\u001b[38;5;241m.\u001b[39mhead()\u001b[38;5;241m.\u001b[39mget_ts(wel_coords)\n\u001b[0;32m    412\u001b[0m _, ax \u001b[38;5;241m=\u001b[39m plt\u001b[38;5;241m.\u001b[39msubplots()\n\u001b[0;32m    413\u001b[0m ax\u001b[38;5;241m.\u001b[39mplot(heads[:, \u001b[38;5;241m0\u001b[39m], heads[:, \u001b[38;5;241m1\u001b[39m], label\u001b[38;5;241m=\u001b[39m\u001b[38;5;124m'\u001b[39m\u001b[38;5;124mWell water level\u001b[39m\u001b[38;5;124m'\u001b[39m)\n",
      "\u001b[1;31mAttributeError\u001b[0m: 'NoneType' object has no attribute 'output'"
     ]
    }
   ],
   "source": [
    "show_well_head(model_path=model_path, name=name, wel_coords=wel_coords)"
   ]
  },
  {
   "cell_type": "code",
   "execution_count": 27,
   "id": "6aeeb3f2-d2f6-4e1e-b549-23680a1f968c",
   "metadata": {
    "tags": []
   },
   "outputs": [
    {
     "ename": "FileNotFoundError",
     "evalue": "[Errno 2] No such file or directory: 'models\\\\mf6.obs.csv'",
     "output_type": "error",
     "traceback": [
      "\u001b[1;31m---------------------------------------------------------------------------\u001b[0m",
      "\u001b[1;31mFileNotFoundError\u001b[0m                         Traceback (most recent call last)",
      "Cell \u001b[1;32mIn[27], line 1\u001b[0m\n\u001b[1;32m----> 1\u001b[0m \u001b[43mshow_concentration\u001b[49m\u001b[43m(\u001b[49m\u001b[43mmodel_path\u001b[49m\u001b[38;5;241;43m=\u001b[39;49m\u001b[43mmodel_path\u001b[49m\u001b[43m,\u001b[49m\u001b[43m \u001b[49m\u001b[43mname\u001b[49m\u001b[38;5;241;43m=\u001b[39;49m\u001b[43mname\u001b[49m\u001b[43m,\u001b[49m\u001b[43m \u001b[49m\u001b[43mwel_coords\u001b[49m\u001b[38;5;241;43m=\u001b[39;49m\u001b[43mwel_coords\u001b[49m\u001b[43m)\u001b[49m\n",
      "File \u001b[1;32mC:\\TUBAF\\MODSIMPLE2\\pymf6\\doc\\examples\\transport\\make_model.py:446\u001b[0m, in \u001b[0;36mshow_concentration\u001b[1;34m(model_path, name, wel_coords)\u001b[0m\n\u001b[0;32m    444\u001b[0m gwt \u001b[38;5;241m=\u001b[39m sim\u001b[38;5;241m.\u001b[39mget_model(name)\n\u001b[0;32m    445\u001b[0m fname \u001b[38;5;241m=\u001b[39m os\u001b[38;5;241m.\u001b[39mpath\u001b[38;5;241m.\u001b[39mjoin(model_path \u001b[38;5;241m+\u001b[39m \u001b[38;5;124m\"\u001b[39m\u001b[38;5;124m.obs.csv\u001b[39m\u001b[38;5;124m\"\u001b[39m)\n\u001b[1;32m--> 446\u001b[0m mf6cobs \u001b[38;5;241m=\u001b[39m \u001b[43mflopy\u001b[49m\u001b[38;5;241;43m.\u001b[39;49m\u001b[43mutils\u001b[49m\u001b[38;5;241;43m.\u001b[39;49m\u001b[43mMf6Obs\u001b[49m\u001b[43m(\u001b[49m\u001b[43mfname\u001b[49m\u001b[43m)\u001b[49m\u001b[38;5;241m.\u001b[39mdata\n\u001b[0;32m    447\u001b[0m \u001b[38;5;66;03m#conc = gwt.output.concentration().get_ts(wel_coords)\u001b[39;00m\n\u001b[0;32m    448\u001b[0m _, ax \u001b[38;5;241m=\u001b[39m plt\u001b[38;5;241m.\u001b[39msubplots()\n",
      "File \u001b[1;32mC:\\TUBAF\\mambaforge\\envs\\pymf6\\lib\\site-packages\\flopy\\utils\\observationfile.py:293\u001b[0m, in \u001b[0;36mMf6Obs.__init__\u001b[1;34m(self, filename, verbose, isBinary)\u001b[0m\n\u001b[0;32m    291\u001b[0m \u001b[38;5;66;03m# check if this is a binary file\u001b[39;00m\n\u001b[0;32m    292\u001b[0m \u001b[38;5;28;01mif\u001b[39;00m isBinary \u001b[38;5;241m==\u001b[39m \u001b[38;5;124m\"\u001b[39m\u001b[38;5;124mauto\u001b[39m\u001b[38;5;124m\"\u001b[39m:\n\u001b[1;32m--> 293\u001b[0m     \u001b[38;5;28;01mwith\u001b[39;00m \u001b[38;5;28;43mopen\u001b[39;49m\u001b[43m(\u001b[49m\u001b[43mfilename\u001b[49m\u001b[43m)\u001b[49m \u001b[38;5;28;01mas\u001b[39;00m foo:\n\u001b[0;32m    294\u001b[0m         \u001b[38;5;28;01mif\u001b[39;00m \u001b[38;5;28misinstance\u001b[39m(foo, io\u001b[38;5;241m.\u001b[39mTextIOBase):\n\u001b[0;32m    295\u001b[0m             isBinary \u001b[38;5;241m=\u001b[39m \u001b[38;5;28;01mFalse\u001b[39;00m\n",
      "\u001b[1;31mFileNotFoundError\u001b[0m: [Errno 2] No such file or directory: 'models\\\\mf6.obs.csv'"
     ]
    }
   ],
   "source": [
    "show_concentration(model_path=model_path, name=name, wel_coords=wel_coords)"
   ]
  },
  {
   "cell_type": "code",
   "execution_count": null,
   "id": "bace44a6-9e37-4677-b899-fd9ae2e2f31a",
   "metadata": {},
   "outputs": [],
   "source": []
  }
 ],
 "metadata": {
  "kernelspec": {
   "display_name": "Python 3 (ipykernel)",
   "language": "python",
   "name": "python3"
  },
  "language_info": {
   "codemirror_mode": {
    "name": "ipython",
    "version": 3
   },
   "file_extension": ".py",
   "mimetype": "text/x-python",
   "name": "python",
   "nbconvert_exporter": "python",
   "pygments_lexer": "ipython3",
   "version": "3.10.9"
  }
 },
 "nbformat": 4,
 "nbformat_minor": 5
}
