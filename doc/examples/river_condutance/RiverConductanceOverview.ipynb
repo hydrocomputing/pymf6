{
 "cells": [
  {
   "cell_type": "markdown",
   "id": "37737954-db0b-437f-8011-d7b8e26413a5",
   "metadata": {},
   "source": [
    "# Dynamic River Conductance"
   ]
  },
  {
   "cell_type": "markdown",
   "id": "d135348e-0ae3-4a96-b40d-00c62a2b7d08",
   "metadata": {},
   "source": [
    "This example is based on the\n",
    "[Advanced MODFLOW Training Class, November 22, 2024, Deltares, NL](https://github.com/jdhughes-usgs/modflow-dsd24/blob/main/notebooks/5_MODFLOW_API/modflow_api.ipynb)\n",
    "\n",
    "There the problem is described as follows:\n",
    "\n",
    "> In this example, we are going to use the API to modify the river package so that the conductance\n",
    "> is greater when the groundwater system is discharging to the river and smaller when the river is\n",
    "> discharging to the aquifer.\n",
    "> This example is inspired by [Zaadnoordijk (2009)](https://doi.org/10.1111/j.1745-6584.2009.00582.x),\n",
    "> which used a combination of general head and drain boundaries to increase the conductance when the\n",
    "> aquifer is discharging to the river.\n",
    "\n",
    "## Gaining stream\n",
    "\n",
    "![Image](images/gaining_stream.png)\n",
    "\n",
    "## Losing stream\n",
    "\n",
    "![Image](images/losing_stream.png)\n",
    "\n",
    "[Figure source](https://github.com/jdhughes-usgs/modflow-dsd24/blob/main/presentations/5-MODFLOW_API.pptx)\n",
    "https://github.com/jdhughes-usgs/modflow-dsd24/blob/main/presentations/5-MODFLOW_API.pptx"
   ]
  },
  {
   "cell_type": "markdown",
   "id": "a91237c4-5f03-4478-a397-0d79489ab445",
   "metadata": {},
   "source": [
    "1. [Problem adaption](RiverConductanceBase.ipynb)\n",
    "2. [Using `modflow`](RiverConductanceAPI.ipynb)\n",
    "3. [Using `pymf6`](RiveRiverConductancePymf6.ipynb)"
   ]
  }
 ],
 "metadata": {
  "kernelspec": {
   "display_name": "Python 3 (ipykernel)",
   "language": "python",
   "name": "python3"
  },
  "language_info": {
   "codemirror_mode": {
    "name": "ipython",
    "version": 3
   },
   "file_extension": ".py",
   "mimetype": "text/x-python",
   "name": "python",
   "nbconvert_exporter": "python",
   "pygments_lexer": "ipython3",
   "version": "3.12.7"
  }
 },
 "nbformat": 4,
 "nbformat_minor": 5
}
