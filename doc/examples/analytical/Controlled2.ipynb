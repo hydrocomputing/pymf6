{
 "cells": [
  {
   "cell_type": "code",
   "execution_count": 1,
   "id": "2f8dfa58-719d-4bd8-a85c-147e8320b69e",
   "metadata": {},
   "outputs": [],
   "source": [
    "%load_ext autoreload\n",
    "%autoreload all"
   ]
  },
  {
   "cell_type": "code",
   "execution_count": 2,
   "id": "e52e77b2-b4bf-486d-aa50-c5a579efcc4a",
   "metadata": {},
   "outputs": [],
   "source": [
    "from contextlib import redirect_stdout\n",
    "from os import devnull\n",
    "import warnings\n",
    "\n",
    "from create_model import create_model\n",
    "from pymf6.mf6 import MF6\n",
    "from pymf6.api import create_mutable_bc\n",
    "\n",
    "from analytic_well_cell import AnalyticWell"
   ]
  },
  {
   "cell_type": "code",
   "execution_count": 3,
   "id": "43ddf48c-a62d-4602-9083-041d44fb591a",
   "metadata": {},
   "outputs": [],
   "source": [
    "model_path_controlled = 'models/c_100_100'\n",
    "name = 'gwf_c_100_100'\n",
    "mf6 = MF6(model_path_controlled + '/mfsim.nam', use_modflow_api=True)"
   ]
  },
  {
   "cell_type": "code",
   "execution_count": 4,
   "id": "3d26ab86-8761-4343-8777-feabee4da3c4",
   "metadata": {},
   "outputs": [
    {
     "name": "stderr",
     "output_type": "stream",
     "text": [
      "/Users/mike/Dev/pymf6/.pixi/envs/analytic/lib/python3.12/site-packages/modflowapi/extensions/apimodel.py:371: DeprecationWarning: Conversion of an array with ndim > 0 to a scalar is deprecated, and will error in future. Ensure you extract a single element from your array before performing this operation. (Deprecated NumPy 1.25.)\n",
      "  nodeuser = np.arange(nodes).astype(int)\n"
     ]
    }
   ],
   "source": [
    "gwf = mf6.models['gwf6']\n",
    "wel = create_mutable_bc(gwf.wel)"
   ]
  },
  {
   "cell_type": "code",
   "execution_count": 5,
   "id": "8bc3b61a-0ec9-4927-8d9b-a42b4e7dad11",
   "metadata": {},
   "outputs": [
    {
     "data": {
      "text/plain": [
       "(Model, 5.272882166946008)"
      ]
     },
     "execution_count": 5,
     "metadata": {},
     "output_type": "execute_result"
    }
   ],
   "source": [
    "well_levels = []\n",
    "with warnings.catch_warnings(action=\"ignore\"), open(devnull, 'w') as fobj:\n",
    "    with redirect_stdout(fobj):\n",
    "        awell = AnalyticWell(gwf)\n",
    "        for step in mf6.steps:\n",
    "            well_levels.append(awell.calc_well_head(-wel.q[0]))\n",
    "well_levels[-1]"
   ]
  },
  {
   "cell_type": "code",
   "execution_count": 6,
   "id": "6adc64f4-c1a5-4df6-9729-a012aa38445c",
   "metadata": {},
   "outputs": [],
   "source": [
    "from run_controlled import run_model"
   ]
  },
  {
   "cell_type": "code",
   "execution_count": 7,
   "id": "180a7a99-13d1-4126-8575-70c0ab62409b",
   "metadata": {},
   "outputs": [
    {
     "data": {
      "text/plain": [
       "(Model, 5.272882166946008)"
      ]
     },
     "execution_count": 7,
     "metadata": {},
     "output_type": "execute_result"
    }
   ],
   "source": [
    "run_model()"
   ]
  },
  {
   "cell_type": "code",
   "execution_count": 8,
   "id": "fa1dca8d-d185-4271-a467-39fa6ac90286",
   "metadata": {},
   "outputs": [],
   "source": [
    "from timeit import default_timer"
   ]
  },
  {
   "cell_type": "code",
   "execution_count": 9,
   "id": "c91b2f9f-1406-498b-94bf-5c261cec2dcd",
   "metadata": {},
   "outputs": [
    {
     "name": "stdout",
     "output_type": "stream",
     "text": [
      "8.771299125161022\n"
     ]
    }
   ],
   "source": [
    "start = default_timer()\n",
    "run_model()\n",
    "print(default_timer() - start)"
   ]
  },
  {
   "cell_type": "code",
   "execution_count": 10,
   "id": "d489f1a6-9f48-427d-8a6e-d47b1ce3ca54",
   "metadata": {},
   "outputs": [
    {
     "name": "stdout",
     "output_type": "stream",
     "text": [
      "8.819216167088598\n"
     ]
    }
   ],
   "source": [
    "start = default_timer()\n",
    "run_model()\n",
    "print(default_timer() - start)"
   ]
  },
  {
   "cell_type": "code",
   "execution_count": 11,
   "id": "49d5fe81-f53e-4b79-8a05-3370914e74d3",
   "metadata": {},
   "outputs": [],
   "source": [
    "run_times = {0.25: {'run_time': 1111.331902957987, 'well_level': 5.87527215062761},\n",
    " 0.5: {'run_time': 271.3050797500182, 'well_level': 5.692237598347647},\n",
    " 1: {'run_time': 68.216576582985, 'well_level': 5.984964642838974},\n",
    " 5: {'run_time': 2.8074117079377174, 'well_level': 6.782194342990477},\n",
    " 10: {'run_time': 0.7767317919060588, 'well_level': 7.295202624792037},\n",
    " 100: {'run_time': 0.14793095807544887, 'well_level': 9.232159585697843}}"
   ]
  },
  {
   "cell_type": "code",
   "execution_count": 12,
   "id": "7e122274-683a-4b42-9eba-e7bfb2f7211a",
   "metadata": {},
   "outputs": [
    {
     "name": "stdout",
     "output_type": "stream",
     "text": [
      "100 100 0.15 9.23\n",
      "10 10000 0.78 7.3\n",
      "5 40000 2.81 6.78\n",
      "1 1000000 68.22 5.98\n",
      "0.5 4000000 271.31 5.69\n",
      "0.25 16000000 1111.33 5.88\n"
     ]
    }
   ],
   "source": [
    "for size, values in reversed(run_times.items()):\n",
    "    print(size, int((1000 / size) ** 2), *(round(x, 2) for x in values.values()))"
   ]
  },
  {
   "cell_type": "code",
   "execution_count": 13,
   "id": "42cfdd16-ed8a-4390-9217-021afd9d1eb5",
   "metadata": {},
   "outputs": [
    {
     "data": {
      "text/plain": [
       "1000000.0"
      ]
     },
     "execution_count": 13,
     "metadata": {},
     "output_type": "execute_result"
    }
   ],
   "source": [
    "(1000 / 1) ** 2"
   ]
  },
  {
   "cell_type": "code",
   "execution_count": null,
   "id": "50ccce74-cc9f-4a84-9eaf-bb78b3be42e9",
   "metadata": {},
   "outputs": [],
   "source": []
  }
 ],
 "metadata": {
  "kernelspec": {
   "display_name": "Python 3 (ipykernel)",
   "language": "python",
   "name": "python3"
  },
  "language_info": {
   "codemirror_mode": {
    "name": "ipython",
    "version": 3
   },
   "file_extension": ".py",
   "mimetype": "text/x-python",
   "name": "python",
   "nbconvert_exporter": "python",
   "pygments_lexer": "ipython3",
   "version": "3.12.3"
  }
 },
 "nbformat": 4,
 "nbformat_minor": 5
}
