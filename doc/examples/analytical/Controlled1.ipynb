{
 "cells": [
  {
   "cell_type": "code",
   "execution_count": 1,
   "id": "09d0bf79-0ca0-4b0d-9ea3-8db4b9384dc2",
   "metadata": {},
   "outputs": [],
   "source": [
    "%load_ext autoreload\n",
    "%autoreload all"
   ]
  },
  {
   "cell_type": "code",
   "execution_count": 2,
   "id": "3d440cc1-b025-4217-8f93-cf1e13f0998d",
   "metadata": {},
   "outputs": [],
   "source": [
    "from create_model import create_model\n",
    "from pymf6.mf6 import MF6\n",
    "from pymf6.api import create_mutable_bc\n",
    "\n",
    "from analytic_well_cell import AnalyticWell"
   ]
  },
  {
   "cell_type": "code",
   "execution_count": 3,
   "id": "f62094a1-60c6-4a75-bead-8bc68dbc6cc9",
   "metadata": {},
   "outputs": [
    {
     "data": {
      "text/plain": [
       "(PosixPath('models/c_100_100'), 5, 5)"
      ]
     },
     "execution_count": 3,
     "metadata": {},
     "output_type": "execute_result"
    }
   ],
   "source": [
    "create_model(base_name='c')"
   ]
  },
  {
   "cell_type": "code",
   "execution_count": 4,
   "id": "cf3bb951-0da3-4040-a1e6-10aa34df6dba",
   "metadata": {},
   "outputs": [],
   "source": [
    "model_path_controlled = 'models/c_100_100'\n",
    "name = 'gwf_c_100_100'\n",
    "mf6 = MF6(model_path_controlled + '/mfsim.nam', use_modflow_api=True, advance_first_step=False)"
   ]
  },
  {
   "cell_type": "code",
   "execution_count": 5,
   "id": "b9e34889-6243-4491-9c2b-ff561bf4529f",
   "metadata": {},
   "outputs": [
    {
     "data": {
      "text/html": [
       "<h3>MF6</h3><h4>pymf6 configuration data</h4><table><tbody><tr><td>pymf6 version:</td><td>1.4.1.dev11+gb317e67d.d20240629</td></tr><tr><td>xmipy version:</td><td>1.5.0</td></tr><tr><td>modflowapi version:</td><td>0.2.0</td></tr><tr><td>ini file path:</td><td>/Users/mike/pymf6.ini</td></tr><tr><td>dll file path:</td><td>/Users/mike/hydrocomputing/projects/2021/003_ModSimple_Phase2/Bearbeitung/MODFLOW6/nightly/2024_06_11/libmf6.dylib</td></tr><tr><td>MODFLOW version:</td><td>6.6.0.dev0-dev</td></tr></tbody></table><p>MODFLOW variable documentation is  NOT available</p>"
      ],
      "text/plain": [
       "<pymf6.mf6.MF6 at 0x16c4935c0>"
      ]
     },
     "execution_count": 5,
     "metadata": {},
     "output_type": "execute_result"
    }
   ],
   "source": [
    "mf6"
   ]
  },
  {
   "cell_type": "code",
   "execution_count": 6,
   "id": "622acf8f-e6dc-434a-bf73-9ab1754edba8",
   "metadata": {},
   "outputs": [],
   "source": [
    "sim = mf6.simulation"
   ]
  },
  {
   "cell_type": "code",
   "execution_count": 7,
   "id": "8b02cf7a-9f46-4be4-905d-d5ec36d332e9",
   "metadata": {},
   "outputs": [
    {
     "data": {
      "text/html": [
       "<div>\n",
       "<style scoped>\n",
       "    .dataframe tbody tr th:only-of-type {\n",
       "        vertical-align: middle;\n",
       "    }\n",
       "\n",
       "    .dataframe tbody tr th {\n",
       "        vertical-align: top;\n",
       "    }\n",
       "\n",
       "    .dataframe thead th {\n",
       "        text-align: right;\n",
       "    }\n",
       "</style>\n",
       "<table border=\"1\" class=\"dataframe\"><thead>\n",
       "                 <tr style=\"text-align: right;\">\n",
       "<th>modeltype</th>\n",
       "<th>namefile</th>\n",
       "<th>modelname</th>\n",
       "</tr>\n",
       "  </thead>\n",
       "<tbody><tr>\n",
       "<td>gwf6</td>\n",
       "<td>gwf_c_100_100.nam</td>\n",
       "<td>GWF_C_100_100</td>\n",
       "</tr>\n",
       "</tbody>\n",
       "</table>\n",
       "</div>"
      ],
      "text/plain": [
       "=================================================\n",
       "| modeltype | namefile          | modelname     |\n",
       "-------------------------------------------------\n",
       "| gwf6      | gwf_c_100_100.nam | GWF_C_100_100 |\n",
       "================================================="
      ]
     },
     "execution_count": 7,
     "metadata": {},
     "output_type": "execute_result"
    }
   ],
   "source": [
    "sim"
   ]
  },
  {
   "cell_type": "code",
   "execution_count": 8,
   "id": "854cd5b8-cc52-428d-9c23-3a3222bf72d4",
   "metadata": {},
   "outputs": [
    {
     "data": {
      "text/plain": [
       "[Model GWF_C_100_100 \n",
       " 15 packages\n",
       " 49 variables.]"
      ]
     },
     "execution_count": 8,
     "metadata": {},
     "output_type": "execute_result"
    }
   ],
   "source": [
    "sim.models"
   ]
  },
  {
   "cell_type": "code",
   "execution_count": 9,
   "id": "5d1fcc41-2bd1-45cc-84b8-6aa42b1c3f4d",
   "metadata": {},
   "outputs": [
    {
     "data": {
      "text/plain": [
       "[Solution 1 \n",
       " 1 packages\n",
       " 60 variables.]"
      ]
     },
     "execution_count": 9,
     "metadata": {},
     "output_type": "execute_result"
    }
   ],
   "source": [
    "sim.solution_groups"
   ]
  },
  {
   "cell_type": "code",
   "execution_count": 10,
   "id": "9a52dc4a-af88-4dfe-aa47-a5a0511aa4f1",
   "metadata": {},
   "outputs": [
    {
     "data": {
      "text/html": [
       "<h3>Variable DELT</h3><table><tbody><tr><td>value: </td><td>0.0</td></tr></tbody></table>"
      ],
      "text/plain": [
       "Variable DELT \n",
       "value: 0.0"
      ]
     },
     "execution_count": 10,
     "metadata": {},
     "output_type": "execute_result"
    }
   ],
   "source": [
    "sim.TDIS.DELT"
   ]
  },
  {
   "cell_type": "code",
   "execution_count": 11,
   "id": "c6939312-178e-4e00-8912-6ff6cab89055",
   "metadata": {},
   "outputs": [],
   "source": [
    "gwf = mf6.models['gwf6']"
   ]
  },
  {
   "cell_type": "code",
   "execution_count": 12,
   "id": "889a12bc-a48c-403f-bc27-889b7e8affd6",
   "metadata": {},
   "outputs": [
    {
     "name": "stdout",
     "output_type": "stream",
     "text": [
      "0.0 12.0 12.0\n",
      "1.0 9.24178548415261 9.24178548415261\n",
      "1.0 9.936848637899823 9.936848637899823\n",
      "1.0 9.936896712750007 9.936896712750007\n",
      "2.0 9.878604346280135 9.878604346280135\n",
      "2.0 9.878528415791997 9.878528415791997\n",
      "3.0 9.825055477761612 9.825055477761612\n",
      "3.0 9.824992165240515 9.824992165240515\n",
      "4.0 9.775946903012986 9.775946903012986\n",
      "4.0 9.775888855233122 9.775888855233122\n",
      "5.0 9.730904670119319 9.730904670119319\n",
      "5.0 9.730851428947357 9.730851428947357\n"
     ]
    },
    {
     "name": "stderr",
     "output_type": "stream",
     "text": [
      "/Users/mike/Dev/pymf6/.pixi/envs/analytic/lib/python3.12/site-packages/modflowapi/extensions/apimodel.py:371: DeprecationWarning: Conversion of an array with ndim > 0 to a scalar is deprecated, and will error in future. Ensure you extract a single element from your array before performing this operation. (Deprecated NumPy 1.25.)\n",
      "  nodeuser = np.arange(nodes).astype(int)\n"
     ]
    }
   ],
   "source": [
    "for step in mf6.steps:\n",
    "    if step > 5:\n",
    "        break\n",
    "    print(step, gwf.X.min(), gwf.X[0, 5, 5])"
   ]
  },
  {
   "cell_type": "code",
   "execution_count": 13,
   "id": "db0921e4-f14c-4d4b-b114-57d728f3e63c",
   "metadata": {},
   "outputs": [
    {
     "data": {
      "text/plain": [
       "dict_keys(['dis', 'npf', 'buy', 'vsc', 'gnc', 'hfb', 'sto', 'csub', 'ic', 'mvr', 'wel_0', 'chd_0'])"
      ]
     },
     "execution_count": 13,
     "metadata": {},
     "output_type": "execute_result"
    }
   ],
   "source": [
    "gwf.package_dict.keys()"
   ]
  },
  {
   "cell_type": "code",
   "execution_count": 14,
   "id": "d7deb6a9-86fb-4d79-a3ce-d510b464b538",
   "metadata": {},
   "outputs": [],
   "source": [
    "wel = create_mutable_bc(gwf.wel)"
   ]
  },
  {
   "cell_type": "code",
   "execution_count": 15,
   "id": "9ddc7c02-2e7f-451a-9d62-191ba676984f",
   "metadata": {},
   "outputs": [],
   "source": [
    "\n",
    "def get_geomtery(gwf, cell_coords):\n",
    "    \n",
    "    delr = gwf.dis.get_advanced_var('delr')\n",
    "    delc = gwf.dis.get_advanced_var('delc')\n",
    "\n",
    "\n",
    "def get_cell_properties(gwf, well_coord):\n",
    "    properties = {}\n",
    "    top = gwf.dis.top.values.__getitem__(well_coord)\n",
    "    bot = gwf.dis.bot.values.__getitem__(well_coord)\n",
    "    properties['z'] = [top - bot, 0]\n",
    "    properties['kaq'] = gwf.npf.k11.values.__getitem__(well_coord)\n",
    "    properties['ss'] = gwf.sto.ss.values.__getitem__(well_coord)\n",
    "    properties['sy'] = gwf.sto.sy.values.__getitem__(well_coord)\n",
    "    return properties\n",
    "    \n",
    "\n",
    "def make_cell_coords(gwf):\n",
    "    # layer, row, col\n",
    "    wel = create_mutable_bc(gwf.wel)\n",
    "    well_coord = wel.nodelist[0]\n",
    "    cell_coords = {'well': well_coord}\n",
    "    cell_coords['left'] = (well_coord[0], well_coord[1], well_coord[2] - 1)\n",
    "    cell_coords['right']  = (well_coord[0], well_coord[1], well_coord[2] + 1)\n",
    "    cell_coords['top'] = (well_coord[0], well_coord[1] + 1, well_coord[2])\n",
    "    cell_coords['bot'] = (well_coord[0], well_coord[1] - 1, well_coord[2])\n",
    "    cell_coords['leftbot'] = (well_coord[0], well_coord[1] - 1, well_coord[2] - 1)\n",
    "    cell_coords['rightbot'] = (well_coord[0], well_coord[1] + 1, well_coord[2] - 1)\n",
    "    cell_coords['lefttop'] = (well_coord[0], well_coord[1] + 1, well_coord[2] - 1)\n",
    "    cell_coords['righttop'] = (well_coord[0], well_coord[1] + 1, well_coord[2] + 1)\n",
    "    return cell_coords\n",
    "\n",
    "\n",
    "def get_heads(coords_dict):\n",
    "    return {name: gwf.X.__getitem__(coord) \n",
    "            for name, coord in coords_dict.items()}"
   ]
  },
  {
   "cell_type": "code",
   "execution_count": 16,
   "id": "f3b6ece6-e0ae-40e0-a6f2-dc28c7d3036d",
   "metadata": {},
   "outputs": [],
   "source": [
    "cell_coords = make_cell_coords(gwf)"
   ]
  },
  {
   "cell_type": "code",
   "execution_count": 17,
   "id": "48f46584-3cf5-4fe6-a790-2d1918fc659b",
   "metadata": {},
   "outputs": [
    {
     "data": {
      "text/plain": [
       "{'z': [10.0, 0], 'kaq': 10.0, 'ss': 1e-06, 'sy': 0.2}"
      ]
     },
     "execution_count": 17,
     "metadata": {},
     "output_type": "execute_result"
    }
   ],
   "source": [
    "get_cell_properties(gwf, cell_coords['well'])"
   ]
  },
  {
   "cell_type": "code",
   "execution_count": 18,
   "id": "4ec36873-9df6-4e80-8307-86917e227754",
   "metadata": {},
   "outputs": [
    {
     "data": {
      "text/plain": [
       "{'well': 9.689592054655128,\n",
       " 'left': 10.720126576058757,\n",
       " 'right': 10.77149013654112,\n",
       " 'top': 10.710460206162425,\n",
       " 'bot': 10.7309255293218,\n",
       " 'leftbot': 11.003213390020042,\n",
       " 'rightbot': 10.983133921037656,\n",
       " 'lefttop': 10.983133921037656,\n",
       " 'righttop': 11.034513686461237}"
      ]
     },
     "execution_count": 18,
     "metadata": {},
     "output_type": "execute_result"
    }
   ],
   "source": [
    "get_heads(cell_coords)"
   ]
  },
  {
   "cell_type": "code",
   "execution_count": 19,
   "id": "ea7232cd-d191-4e3d-a8fc-0d0cd2eb72f2",
   "metadata": {},
   "outputs": [
    {
     "data": {
      "text/plain": [
       "array([100., 100., 100., 100., 100., 100., 100., 100., 100., 100.])"
      ]
     },
     "execution_count": 19,
     "metadata": {},
     "output_type": "execute_result"
    }
   ],
   "source": [
    "gwf.dis.get_advanced_var('delr')"
   ]
  },
  {
   "cell_type": "code",
   "execution_count": 20,
   "id": "af628673-e1e8-4436-9894-bfc055f81b9b",
   "metadata": {},
   "outputs": [
    {
     "data": {
      "text/plain": [
       "array([[[1.e-06, 1.e-06, 1.e-06, ..., 1.e-06, 1.e-06, 1.e-06],\n",
       "        [1.e-06, 1.e-06, 1.e-06, ..., 1.e-06, 1.e-06, 1.e-06],\n",
       "        [1.e-06, 1.e-06, 1.e-06, ..., 1.e-06, 1.e-06, 1.e-06],\n",
       "        ...,\n",
       "        [1.e-06, 1.e-06, 1.e-06, ..., 1.e-06, 1.e-06, 1.e-06],\n",
       "        [1.e-06, 1.e-06, 1.e-06, ..., 1.e-06, 1.e-06, 1.e-06],\n",
       "        [1.e-06, 1.e-06, 1.e-06, ..., 1.e-06, 1.e-06, 1.e-06]]])"
      ]
     },
     "execution_count": 20,
     "metadata": {},
     "output_type": "execute_result"
    }
   ],
   "source": [
    "gwf.sto.ss.values"
   ]
  },
  {
   "cell_type": "code",
   "execution_count": 21,
   "id": "64eda601-95ef-45e9-bd2e-d592d8c5d868",
   "metadata": {},
   "outputs": [
    {
     "name": "stdout",
     "output_type": "stream",
     "text": [
      "Number of elements, Number of equations: 2 , 49\n",
      "..\n",
      "solution complete\n"
     ]
    },
    {
     "data": {
      "text/plain": [
       "5.698060973333909"
      ]
     },
     "execution_count": 21,
     "metadata": {},
     "output_type": "execute_result"
    }
   ],
   "source": [
    "import warnings\n",
    "with warnings.catch_warnings(action=\"ignore\"):\n",
    "    awell = AnalyticWell(gwf)\n",
    "    m, h = awell.calc_well_head(-wel.q[0])\n",
    "h"
   ]
  },
  {
   "cell_type": "code",
   "execution_count": 22,
   "id": "3c5a7634-3833-4684-bd2e-5ba95a562b13",
   "metadata": {},
   "outputs": [
    {
     "data": {
      "text/plain": [
       "5.698060973333909"
      ]
     },
     "execution_count": 22,
     "metadata": {},
     "output_type": "execute_result"
    }
   ],
   "source": [
    "h"
   ]
  },
  {
   "cell_type": "code",
   "execution_count": 23,
   "id": "b6135171-1b8f-448e-9348-85eeaef44acd",
   "metadata": {},
   "outputs": [
    {
     "name": "stderr",
     "output_type": "stream",
     "text": [
      "/Users/mike/Dev/pymf6/.pixi/envs/analytic/lib/python3.12/site-packages/IPython/core/pylabtools.py:77: DeprecationWarning: backend2gui is deprecated since IPython 8.24, backends are managed in matplotlib and can be externally registered.\n",
      "  warnings.warn(\n",
      "/Users/mike/Dev/pymf6/.pixi/envs/analytic/lib/python3.12/site-packages/IPython/core/pylabtools.py:77: DeprecationWarning: backend2gui is deprecated since IPython 8.24, backends are managed in matplotlib and can be externally registered.\n",
      "  warnings.warn(\n",
      "/Users/mike/Dev/pymf6/.pixi/envs/analytic/lib/python3.12/site-packages/IPython/core/pylabtools.py:77: DeprecationWarning: backend2gui is deprecated since IPython 8.24, backends are managed in matplotlib and can be externally registered.\n",
      "  warnings.warn(\n"
     ]
    },
    {
     "data": {
      "image/png": "[encoded data removed]",
      "text/plain": [
       "<Figure size 640x480 with 1 Axes>"
      ]
     },
     "metadata": {},
     "output_type": "display_data"
    }
   ],
   "source": [
    "m.contour(win=[495, 605, 495, 605], ngr=40, labels=True, decimals=1)"
   ]
  },
  {
   "cell_type": "code",
   "execution_count": 24,
   "id": "2a630af8-6223-41d4-b7a9-5ac28868d492",
   "metadata": {},
   "outputs": [],
   "source": [
    "well = m.elementdict['well']"
   ]
  },
  {
   "cell_type": "code",
   "execution_count": 25,
   "id": "80ae64ac-6cde-40f4-a2f8-a52f116a19d0",
   "metadata": {},
   "outputs": [
    {
     "data": {
      "text/plain": [
       "array([[5.69806097]])"
      ]
     },
     "execution_count": 25,
     "metadata": {},
     "output_type": "execute_result"
    }
   ],
   "source": [
    "well.headinside(1)"
   ]
  },
  {
   "cell_type": "code",
   "execution_count": 26,
   "id": "e08b831f-f91c-4435-b65d-e31c58b21cd1",
   "metadata": {},
   "outputs": [
    {
     "data": {
      "text/plain": [
       "{'center': 9.689592054655128,\n",
       " 'left': 10.720126576058757,\n",
       " 'right': 10.77149013654112,\n",
       " 'top': 10.710460206162425,\n",
       " 'bot': 10.7309255293218,\n",
       " 'bot_left': 11.003213390020042,\n",
       " 'bot_right': 11.052712097536682,\n",
       " 'top_left': 10.983133921037656,\n",
       " 'top_right': 11.034513686461237}"
      ]
     },
     "execution_count": 26,
     "metadata": {},
     "output_type": "execute_result"
    }
   ],
   "source": [
    "awell.neighbor_heads"
   ]
  },
  {
   "cell_type": "code",
   "execution_count": 27,
   "id": "50da508d-5347-4811-889a-a1ebb981078e",
   "metadata": {},
   "outputs": [
    {
     "data": {
      "text/plain": [
       "['center',\n",
       " 'left',\n",
       " 'right',\n",
       " 'top',\n",
       " 'bot',\n",
       " 'bot_left',\n",
       " 'bot_right',\n",
       " 'top_left',\n",
       " 'top_right']"
      ]
     },
     "execution_count": 27,
     "metadata": {},
     "output_type": "execute_result"
    }
   ],
   "source": [
    "list(awell.neighbor_heads)"
   ]
  },
  {
   "cell_type": "code",
   "execution_count": 28,
   "id": "659d753a-0c10-4680-80d8-02b08b0bc615",
   "metadata": {},
   "outputs": [
    {
     "data": {
      "text/plain": [
       "{'center': 9.689592054655128,\n",
       " 'left': 10.720126576058757,\n",
       " 'right': 10.77149013654112,\n",
       " 'top': 10.710460206162425,\n",
       " 'bot': 10.7309255293218,\n",
       " 'bot_left': 11.003213390020042,\n",
       " 'bot_right': 11.052712097536682,\n",
       " 'top_left': 10.983133921037656,\n",
       " 'top_right': 11.034513686461237}"
      ]
     },
     "execution_count": 28,
     "metadata": {},
     "output_type": "execute_result"
    }
   ],
   "source": [
    "awell.neighbor_heads"
   ]
  },
  {
   "cell_type": "code",
   "execution_count": 29,
   "id": "fc080c7f-95a1-43d1-be96-e0dbe9698179",
   "metadata": {},
   "outputs": [],
   "source": [
    "delr = gwf.dis.get_advanced_var('delr')\n",
    "delc = gwf.dis.get_advanced_var('delc')\n"
   ]
  },
  {
   "cell_type": "code",
   "execution_count": 30,
   "id": "6fc540e3-0fa1-40d5-9503-20901f98ef7d",
   "metadata": {},
   "outputs": [
    {
     "data": {
      "text/plain": [
       "array([ 100.,  200.,  300.,  400.,  500.,  600.,  700.,  800.,  900.,\n",
       "       1000.])"
      ]
     },
     "execution_count": 30,
     "metadata": {},
     "output_type": "execute_result"
    }
   ],
   "source": [
    "import numpy as np\n",
    "xs = np.add.accumulate(delr)\n",
    "xs"
   ]
  },
  {
   "cell_type": "code",
   "execution_count": 31,
   "id": "9e24bbb3-a822-4a14-9d4b-39f0e7fa5a04",
   "metadata": {},
   "outputs": [
    {
     "ename": "NameError",
     "evalue": "name 'well_coord' is not defined",
     "output_type": "error",
     "traceback": [
      "\u001b[0;31m---------------------------------------------------------------------------\u001b[0m",
      "\u001b[0;31mNameError\u001b[0m                                 Traceback (most recent call last)",
      "Cell \u001b[0;32mIn[31], line 1\u001b[0m\n\u001b[0;32m----> 1\u001b[0m (xs[\u001b[43mwell_coord\u001b[49m[\u001b[38;5;241m1\u001b[39m]] \u001b[38;5;241m+\u001b[39m xs[well_coord[\u001b[38;5;241m1\u001b[39m] \u001b[38;5;241m-\u001b[39m \u001b[38;5;241m1\u001b[39m]) \u001b[38;5;241m/\u001b[39m \u001b[38;5;241m2\u001b[39m\n",
      "\u001b[0;31mNameError\u001b[0m: name 'well_coord' is not defined"
     ]
    }
   ],
   "source": [
    "(xs[well_coord[1]] + xs[well_coord[1] - 1]) / 2"
   ]
  },
  {
   "cell_type": "code",
   "execution_count": null,
   "id": "189a36f8-601c-403b-a95e-3ab92f4d9344",
   "metadata": {},
   "outputs": [],
   "source": [
    "wel.q[0]"
   ]
  },
  {
   "cell_type": "code",
   "execution_count": null,
   "id": "559823f5-eaec-4161-804f-558f065ae9f6",
   "metadata": {},
   "outputs": [],
   "source": []
  }
 ],
 "metadata": {
  "kernelspec": {
   "display_name": "Python 3 (ipykernel)",
   "language": "python",
   "name": "python3"
  },
  "language_info": {
   "codemirror_mode": {
    "name": "ipython",
    "version": 3
   },
   "file_extension": ".py",
   "mimetype": "text/x-python",
   "name": "python",
   "nbconvert_exporter": "python",
   "pygments_lexer": "ipython3",
   "version": "3.12.3"
  }
 },
 "nbformat": 4,
 "nbformat_minor": 5
}
